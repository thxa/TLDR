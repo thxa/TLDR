{
 "cells": [
  {
   "cell_type": "code",
   "execution_count": 4,
   "metadata": {
    "jukit_cell_id": "NONE"
   },
   "outputs": [
    {
     "name": "stdout",
     "output_type": "stream",
     "text": [
      "['/usr/lib/python312.zip', '/usr/lib/python3.12', '/usr/lib/python3.12/lib-dynload', '', '/home/t/.local/lib/python3.12/site-packages', '/usr/lib/python3.12/site-packages', '/usr/lib/python3.12/site-packages/linkgrammar']\n"
     ]
    }
   ],
   "source": [
    "import sys\n",
    "import os\n",
    "import math\n",
    "# sys.path.append(f\"{os.getcwd()}/.venv/lib/python3.12/site-packages/\")\n",
    "# sys.path.append(f\"{os.getcwd()}/\")\n",
    "from src.vehicle_routing.demo_data import DemoData, generate_demo_data\n",
    "\n",
    "from src.vehicle_routing.domain import Location, Visit, Vehicle, VehicleRoutePlan\n",
    "import pandas as pd\n",
    "\n",
    "print(sys.path)"
   ]
  },
  {
   "cell_type": "code",
   "execution_count": 5,
   "metadata": {},
   "outputs": [
    {
     "data": {
      "text/plain": [
       "<DemoData.FIRENZE: _DemoDataProperties(seed=2, visit_count=77, vehicle_count=6, vehicle_start_time=datetime.time(7, 30), min_demand=1, max_demand=2, min_vehicle_capacity=20, max_vehicle_capacity=40, south_west_corner=Location(43.751466, 11.17721), north_east_corner=Location(43.809291, 11.290195))>"
      ]
     },
     "execution_count": 5,
     "metadata": {},
     "output_type": "execute_result"
    }
   ],
   "source": [
    "DemoData.FIRENZE"
   ]
  },
  {
   "cell_type": "code",
   "execution_count": 6,
   "metadata": {},
   "outputs": [
    {
     "name": "stdout",
     "output_type": "stream",
     "text": [
      "07:30:00\n",
      "6\n"
     ]
    },
    {
     "data": {
      "text/plain": [
       "Location(43.751466, 11.17721)"
      ]
     },
     "execution_count": 6,
     "metadata": {},
     "output_type": "execute_result"
    }
   ],
   "source": [
    "print(DemoData.FIRENZE.value.vehicle_start_time)\n",
    "print(DemoData.FIRENZE.value.vehicle_count)\n",
    "DemoData.FIRENZE.value.south_west_corner"
   ]
  },
  {
   "cell_type": "code",
   "execution_count": 7,
   "metadata": {},
   "outputs": [
    {
     "data": {
      "text/plain": [
       "VehicleRoutePlan(name='demo', south_west_corner=Location(43.751466, 11.17721), north_east_corner=Location(43.809291, 11.290195), vehicles=[Vehicle(0), Vehicle(1), Vehicle(2), Vehicle(3), Vehicle(4), Vehicle(5)], visits=[Visit(0), Visit(1), Visit(2), Visit(3), Visit(4), Visit(5), Visit(6), Visit(7), Visit(8), Visit(9), Visit(10), Visit(11), Visit(12), Visit(13), Visit(14), Visit(15), Visit(16), Visit(17), Visit(18), Visit(19), Visit(20), Visit(21), Visit(22), Visit(23), Visit(24), Visit(25), Visit(26), Visit(27), Visit(28), Visit(29), Visit(30), Visit(31), Visit(32), Visit(33), Visit(34), Visit(35), Visit(36), Visit(37), Visit(38), Visit(39), Visit(40), Visit(41), Visit(42), Visit(43), Visit(44), Visit(45), Visit(46), Visit(47), Visit(48), Visit(49), Visit(50), Visit(51), Visit(52), Visit(53), Visit(54), Visit(55), Visit(56), Visit(57), Visit(58), Visit(59), Visit(60), Visit(61), Visit(62), Visit(63), Visit(64), Visit(65), Visit(66), Visit(67), Visit(68), Visit(69), Visit(70), Visit(71), Visit(72), Visit(73), Visit(74), Visit(75), Visit(76)], score=None, solver_status=None, total_driving_time_seconds=0)"
      ]
     },
     "execution_count": 7,
     "metadata": {},
     "output_type": "execute_result"
    }
   ],
   "source": [
    "demo_data = generate_demo_data(DemoData.FIRENZE)\n",
    "demo_data"
   ]
  },
  {
   "cell_type": "code",
   "execution_count": 8,
   "metadata": {},
   "outputs": [],
   "source": [
    "# demo_data.vehicles[0].vehicle_start_time"
   ]
  },
  {
   "cell_type": "code",
   "execution_count": 9,
   "metadata": {},
   "outputs": [
    {
     "data": {
      "text/plain": [
       "[Vehicle(0), Vehicle(1), Vehicle(2), Vehicle(3), Vehicle(4), Vehicle(5)]"
      ]
     },
     "execution_count": 9,
     "metadata": {},
     "output_type": "execute_result"
    }
   ],
   "source": [
    "demo_data.vehicles"
   ]
  },
  {
   "cell_type": "code",
   "execution_count": 10,
   "metadata": {},
   "outputs": [
    {
     "data": {
      "text/plain": [
       "'{\"id\":\"0\",\"capacity\":21,\"home_location\":[43.7567618903317,11.218004078698039],\"departure_time\":\"2024-09-23T07:30:00\",\"visits\":[],\"arrival_time\":\"2024-09-23T07:30:00\",\"total_demand\":0,\"total_driving_time_seconds\":0}'"
      ]
     },
     "execution_count": 10,
     "metadata": {},
     "output_type": "execute_result"
    }
   ],
   "source": [
    "demo_data.vehicles[0].json()"
   ]
  },
  {
   "cell_type": "code",
   "execution_count": null,
   "metadata": {},
   "outputs": [],
   "source": []
  },
  {
   "cell_type": "code",
   "execution_count": 11,
   "metadata": {},
   "outputs": [
    {
     "data": {
      "text/plain": [
       "'{\"id\":\"0\",\"name\":\"Hugo Smith\",\"location\":[43.766977020885875,11.181268910356453],\"demand\":1,\"min_start_time\":\"2024-09-23T13:00:00\",\"max_end_time\":\"2024-09-23T18:00:00\",\"service_duration\":1800,\"vehicle\":null,\"previous_visit\":null,\"next_visit\":null,\"arrival_time\":null,\"departure_time\":null,\"start_service_time\":null,\"driving_time_seconds_from_previous_standstill\":null}'"
      ]
     },
     "execution_count": 11,
     "metadata": {},
     "output_type": "execute_result"
    }
   ],
   "source": [
    "demo_data.visits[0].json()"
   ]
  },
  {
   "cell_type": "code",
   "execution_count": 12,
   "metadata": {},
   "outputs": [],
   "source": [
    "def generate_demo_data(demo_data_enum: DemoData) -> VehicleRoutePlan:\n",
    "    name = \"demo\"\n",
    "    demo_data = demo_data_enum.value\n",
    "    random = Random(demo_data.seed)\n",
    "    latitudes = doubles(random, demo_data.south_west_corner.latitude, demo_data.north_east_corner.latitude)\n",
    "    longitudes = doubles(random, demo_data.south_west_corner.longitude, demo_data.north_east_corner.longitude)\n",
    "\n",
    "    demands = ints(random, demo_data.min_demand, demo_data.max_demand + 1)\n",
    "    service_durations = values(random, SERVICE_DURATION_MINUTES)\n",
    "    vehicle_capacities = ints(random, demo_data.min_vehicle_capacity,\n",
    "                              demo_data.max_vehicle_capacity + 1)\n",
    "\n",
    "    vehicles = [Vehicle(id=str(i),\n",
    "                        capacity=next(vehicle_capacities),\n",
    "                        home_location=Location(\n",
    "                            latitude=next(latitudes),\n",
    "                            longitude=next(longitudes)),\n",
    "                        departure_time=datetime.combine(\n",
    "                            date.today() + timedelta(days=1), demo_data.vehicle_start_time)\n",
    "                        )\n",
    "                for i in range(demo_data.vehicle_count)]\n",
    "\n",
    "    names = generate_names(random)\n",
    "    visits = [\n",
    "        Visit(\n",
    "             id=str(i),\n",
    "             name=next(names),\n",
    "             location=Location(latitude=next(latitudes), longitude=next(longitudes)),\n",
    "             demand=next(demands),\n",
    "             min_start_time=datetime.combine(date.today() + timedelta(days=1),\n",
    "                                             MORNING_WINDOW_START\n",
    "                                             if (morning_window := random.random() > 0.5)\n",
    "                                             else AFTERNOON_WINDOW_START),\n",
    "             max_end_time=datetime.combine(date.today() + timedelta(days=1),\n",
    "                                           MORNING_WINDOW_END\n",
    "                                           if morning_window\n",
    "                                           else AFTERNOON_WINDOW_END),\n",
    "             service_duration=timedelta(minutes=next(service_durations)),\n",
    "         ) for i in range(demo_data.visit_count)\n",
    "    ]\n",
    "\n",
    "    return VehicleRoutePlan(name=name,\n",
    "                            south_west_corner=demo_data.south_west_corner,\n",
    "                            north_east_corner=demo_data.north_east_corner,\n",
    "                            vehicles=vehicles,\n",
    "                            visits=visits)\n",
    "\n"
   ]
  },
  {
   "cell_type": "code",
   "execution_count": 13,
   "metadata": {},
   "outputs": [
    {
     "ename": "AttributeError",
     "evalue": "'VehicleRoutePlan' object has no attribute 'vehicle_count'",
     "output_type": "error",
     "traceback": [
      "\u001b[0;31m---------------------------------------------------------------------------\u001b[0m",
      "\u001b[0;31mAttributeError\u001b[0m                            Traceback (most recent call last)",
      "Cell \u001b[0;32mIn[13], line 9\u001b[0m\n\u001b[1;32m      1\u001b[0m vehicles \u001b[38;5;241m=\u001b[39m [Vehicle(\u001b[38;5;28mid\u001b[39m\u001b[38;5;241m=\u001b[39m\u001b[38;5;28mstr\u001b[39m(i),\n\u001b[1;32m      2\u001b[0m                     capacity\u001b[38;5;241m=\u001b[39m\u001b[38;5;28mnext\u001b[39m(vehicle_capacities),\n\u001b[1;32m      3\u001b[0m                     home_location\u001b[38;5;241m=\u001b[39mLocation(\n\u001b[1;32m      4\u001b[0m                         latitude\u001b[38;5;241m=\u001b[39m\u001b[38;5;28mnext\u001b[39m(latitudes),\n\u001b[1;32m      5\u001b[0m                         longitude\u001b[38;5;241m=\u001b[39m\u001b[38;5;28mnext\u001b[39m(longitudes)),\n\u001b[1;32m      6\u001b[0m                     departure_time\u001b[38;5;241m=\u001b[39mdatetime\u001b[38;5;241m.\u001b[39mcombine(\n\u001b[1;32m      7\u001b[0m                         date\u001b[38;5;241m.\u001b[39mtoday() \u001b[38;5;241m+\u001b[39m timedelta(days\u001b[38;5;241m=\u001b[39m\u001b[38;5;241m1\u001b[39m), demo_data\u001b[38;5;241m.\u001b[39mvehicle_start_time)\n\u001b[1;32m      8\u001b[0m                     )\n\u001b[0;32m----> 9\u001b[0m             \u001b[38;5;28;01mfor\u001b[39;00m i \u001b[38;5;129;01min\u001b[39;00m \u001b[38;5;28mrange\u001b[39m(\u001b[43mdemo_data\u001b[49m\u001b[38;5;241;43m.\u001b[39;49m\u001b[43mvehicle_count\u001b[49m)]\n",
      "File \u001b[0;32m~/.local/lib/python3.12/site-packages/pydantic/main.py:811\u001b[0m, in \u001b[0;36mBaseModel.__getattr__\u001b[0;34m(self, item)\u001b[0m\n\u001b[1;32m    808\u001b[0m     \u001b[38;5;28;01mreturn\u001b[39;00m \u001b[38;5;28msuper\u001b[39m()\u001b[38;5;241m.\u001b[39m\u001b[38;5;21m__getattribute__\u001b[39m(item)  \u001b[38;5;66;03m# Raises AttributeError if appropriate\u001b[39;00m\n\u001b[1;32m    809\u001b[0m \u001b[38;5;28;01melse\u001b[39;00m:\n\u001b[1;32m    810\u001b[0m     \u001b[38;5;66;03m# this is the current error\u001b[39;00m\n\u001b[0;32m--> 811\u001b[0m     \u001b[38;5;28;01mraise\u001b[39;00m \u001b[38;5;167;01mAttributeError\u001b[39;00m(\u001b[38;5;124mf\u001b[39m\u001b[38;5;124m'\u001b[39m\u001b[38;5;132;01m{\u001b[39;00m\u001b[38;5;28mtype\u001b[39m(\u001b[38;5;28mself\u001b[39m)\u001b[38;5;241m.\u001b[39m\u001b[38;5;18m__name__\u001b[39m\u001b[38;5;132;01m!r}\u001b[39;00m\u001b[38;5;124m object has no attribute \u001b[39m\u001b[38;5;132;01m{\u001b[39;00mitem\u001b[38;5;132;01m!r}\u001b[39;00m\u001b[38;5;124m'\u001b[39m)\n",
      "\u001b[0;31mAttributeError\u001b[0m: 'VehicleRoutePlan' object has no attribute 'vehicle_count'"
     ]
    }
   ],
   "source": [
    "vehicles = [Vehicle(id=str(i),\n",
    "                    capacity=next(vehicle_capacities),\n",
    "                    home_location=Location(\n",
    "                        latitude=next(latitudes),\n",
    "                        longitude=next(longitudes)),\n",
    "                    departure_time=datetime.combine(\n",
    "                        date.today() + timedelta(days=1), demo_data.vehicle_start_time)\n",
    "                    )\n",
    "            for i in range(demo_data.vehicle_count)]"
   ]
  },
  {
   "cell_type": "code",
   "execution_count": 14,
   "metadata": {},
   "outputs": [
    {
     "ename": "AttributeError",
     "evalue": "'VehicleRoutePlan' object has no attribute 'visit_count'",
     "output_type": "error",
     "traceback": [
      "\u001b[0;31m---------------------------------------------------------------------------\u001b[0m",
      "\u001b[0;31mAttributeError\u001b[0m                            Traceback (most recent call last)",
      "Cell \u001b[0;32mIn[14], line 16\u001b[0m\n\u001b[1;32m      1\u001b[0m visits \u001b[38;5;241m=\u001b[39m [\n\u001b[1;32m      2\u001b[0m     Visit(\n\u001b[1;32m      3\u001b[0m          \u001b[38;5;28mid\u001b[39m\u001b[38;5;241m=\u001b[39m\u001b[38;5;28mstr\u001b[39m(i),\n\u001b[1;32m      4\u001b[0m          name\u001b[38;5;241m=\u001b[39m\u001b[38;5;28mstr\u001b[39m(i),\n\u001b[1;32m      5\u001b[0m          location\u001b[38;5;241m=\u001b[39mLocation(latitude\u001b[38;5;241m=\u001b[39mlatitudes, longitude\u001b[38;5;241m=\u001b[39m\u001b[38;5;28mnext\u001b[39m(longitudes)),\n\u001b[1;32m      6\u001b[0m          demand\u001b[38;5;241m=\u001b[39m\u001b[38;5;28mnext\u001b[39m(demands),\n\u001b[1;32m      7\u001b[0m          min_start_time\u001b[38;5;241m=\u001b[39mdatetime\u001b[38;5;241m.\u001b[39mcombine(date\u001b[38;5;241m.\u001b[39mtoday() \u001b[38;5;241m+\u001b[39m timedelta(days\u001b[38;5;241m=\u001b[39m\u001b[38;5;241m1\u001b[39m),\n\u001b[1;32m      8\u001b[0m                                          MORNING_WINDOW_START\n\u001b[1;32m      9\u001b[0m                                          \u001b[38;5;28;01mif\u001b[39;00m (morning_window \u001b[38;5;241m:=\u001b[39m random\u001b[38;5;241m.\u001b[39mrandom() \u001b[38;5;241m>\u001b[39m \u001b[38;5;241m0.5\u001b[39m)\n\u001b[1;32m     10\u001b[0m                                          \u001b[38;5;28;01melse\u001b[39;00m AFTERNOON_WINDOW_START),\n\u001b[1;32m     11\u001b[0m          max_end_time\u001b[38;5;241m=\u001b[39mdatetime\u001b[38;5;241m.\u001b[39mcombine(date\u001b[38;5;241m.\u001b[39mtoday() \u001b[38;5;241m+\u001b[39m timedelta(days\u001b[38;5;241m=\u001b[39m\u001b[38;5;241m1\u001b[39m),\n\u001b[1;32m     12\u001b[0m                                        MORNING_WINDOW_END\n\u001b[1;32m     13\u001b[0m                                        \u001b[38;5;28;01mif\u001b[39;00m morning_window\n\u001b[1;32m     14\u001b[0m                                        \u001b[38;5;28;01melse\u001b[39;00m AFTERNOON_WINDOW_END),\n\u001b[1;32m     15\u001b[0m          service_duration\u001b[38;5;241m=\u001b[39mtimedelta(minutes\u001b[38;5;241m=\u001b[39m\u001b[38;5;28mnext\u001b[39m(service_durations)),\n\u001b[0;32m---> 16\u001b[0m      ) \u001b[38;5;28;01mfor\u001b[39;00m i \u001b[38;5;129;01min\u001b[39;00m \u001b[38;5;28mrange\u001b[39m(\u001b[43mdemo_data\u001b[49m\u001b[38;5;241;43m.\u001b[39;49m\u001b[43mvisit_count\u001b[49m)\n\u001b[1;32m     17\u001b[0m ]\n",
      "File \u001b[0;32m~/.local/lib/python3.12/site-packages/pydantic/main.py:811\u001b[0m, in \u001b[0;36mBaseModel.__getattr__\u001b[0;34m(self, item)\u001b[0m\n\u001b[1;32m    808\u001b[0m     \u001b[38;5;28;01mreturn\u001b[39;00m \u001b[38;5;28msuper\u001b[39m()\u001b[38;5;241m.\u001b[39m\u001b[38;5;21m__getattribute__\u001b[39m(item)  \u001b[38;5;66;03m# Raises AttributeError if appropriate\u001b[39;00m\n\u001b[1;32m    809\u001b[0m \u001b[38;5;28;01melse\u001b[39;00m:\n\u001b[1;32m    810\u001b[0m     \u001b[38;5;66;03m# this is the current error\u001b[39;00m\n\u001b[0;32m--> 811\u001b[0m     \u001b[38;5;28;01mraise\u001b[39;00m \u001b[38;5;167;01mAttributeError\u001b[39;00m(\u001b[38;5;124mf\u001b[39m\u001b[38;5;124m'\u001b[39m\u001b[38;5;132;01m{\u001b[39;00m\u001b[38;5;28mtype\u001b[39m(\u001b[38;5;28mself\u001b[39m)\u001b[38;5;241m.\u001b[39m\u001b[38;5;18m__name__\u001b[39m\u001b[38;5;132;01m!r}\u001b[39;00m\u001b[38;5;124m object has no attribute \u001b[39m\u001b[38;5;132;01m{\u001b[39;00mitem\u001b[38;5;132;01m!r}\u001b[39;00m\u001b[38;5;124m'\u001b[39m)\n",
      "\u001b[0;31mAttributeError\u001b[0m: 'VehicleRoutePlan' object has no attribute 'visit_count'"
     ]
    }
   ],
   "source": [
    "visits = [\n",
    "    Visit(\n",
    "         id=str(i),\n",
    "         name=str(i),\n",
    "         location=Location(latitude=latitudes, longitude=next(longitudes)),\n",
    "         demand=next(demands),\n",
    "         min_start_time=datetime.combine(date.today() + timedelta(days=1),\n",
    "                                         MORNING_WINDOW_START\n",
    "                                         if (morning_window := random.random() > 0.5)\n",
    "                                         else AFTERNOON_WINDOW_START),\n",
    "         max_end_time=datetime.combine(date.today() + timedelta(days=1),\n",
    "                                       MORNING_WINDOW_END\n",
    "                                       if morning_window\n",
    "                                       else AFTERNOON_WINDOW_END),\n",
    "         service_duration=timedelta(minutes=next(service_durations)),\n",
    "     ) for i in range(demo_data.visit_count)\n",
    "]"
   ]
  },
  {
   "cell_type": "code",
   "execution_count": 15,
   "metadata": {},
   "outputs": [],
   "source": [
    "from datetime import date, datetime, time, timedelta\n",
    "SERVICE_DURATION_MINUTES = (10, 20, 30, 40)\n",
    "MORNING_WINDOW_START = time(8, 0)\n",
    "MORNING_WINDOW_END = time(12, 0)\n",
    "AFTERNOON_WINDOW_START = time(13, 0)\n",
    "AFTERNOON_WINDOW_END = time(18, 0)\n"
   ]
  },
  {
   "cell_type": "code",
   "execution_count": 16,
   "metadata": {},
   "outputs": [],
   "source": [
    "demand = 5\n",
    "latitude = 21.501795\n",
    "longitude = 39.244198\n",
    "visits = [Visit(\n",
    "    id=str(0),\n",
    "    name=str(0),\n",
    "    location=Location(latitude=latitude, longitude=longitude),\n",
    "    demand=demand,\n",
    "    min_start_time=datetime.combine(date.today() + timedelta(days=1), MORNING_WINDOW_START),\n",
    "    max_end_time=datetime.combine(date.today() + timedelta(days=1), AFTERNOON_WINDOW_END),\n",
    "    service_duration=timedelta(minutes=SERVICE_DURATION_MINUTES[3]),\n",
    ")]"
   ]
  },
  {
   "cell_type": "code",
   "execution_count": 17,
   "metadata": {},
   "outputs": [
    {
     "data": {
      "text/plain": [
       "datetime.time(7, 30)"
      ]
     },
     "execution_count": 17,
     "metadata": {},
     "output_type": "execute_result"
    }
   ],
   "source": [
    "time(7,30)"
   ]
  },
  {
   "cell_type": "code",
   "execution_count": 18,
   "metadata": {},
   "outputs": [],
   "source": [
    "\n",
    "vehicle_start_time = time(7, 30)\n",
    "vehicle_count = 8\n",
    "vehicle_capacity = 5\n",
    "latitude = 21.501795\n",
    "longitude = 39.244198\n",
    "vehicles = [Vehicle(id=str(0),\n",
    "        capacity=vehicle_capacity,\n",
    "        home_location=Location(\n",
    "            latitude=latitude,\n",
    "            longitude=longitude),\n",
    "        departure_time=datetime.combine(\n",
    "            date.today() + timedelta(days=1), vehicle_start_time)\n",
    "       )]"
   ]
  },
  {
   "cell_type": "code",
   "execution_count": 19,
   "metadata": {},
   "outputs": [
    {
     "data": {
      "text/plain": [
       "Location(43.751466, 11.17721)"
      ]
     },
     "execution_count": 19,
     "metadata": {},
     "output_type": "execute_result"
    }
   ],
   "source": [
    "\n",
    "Location(latitude=43.751466, longitude=11.177210)"
   ]
  },
  {
   "cell_type": "code",
   "execution_count": 20,
   "metadata": {},
   "outputs": [
    {
     "data": {
      "text/plain": [
       "VehicleRoutePlan(name='Kinzia', south_west_corner=Location(43.751466, 11.17721), north_east_corner=Location(43.809291, 11.290195), vehicles=[Vehicle(0)], visits=[Visit(0)], score=None, solver_status=None, total_driving_time_seconds=0)"
      ]
     },
     "execution_count": 20,
     "metadata": {},
     "output_type": "execute_result"
    }
   ],
   "source": [
    "\n",
    "# center_lat = customer['Latitude'].mean()\n",
    "# center_lon = customer['Longitude'].mean()\n",
    "# south_west_corner = DemoData.FIRENZE.value.south_west_corner\n",
    "# north_east_corner = DemoData.FIRENZE.value.north_east_corner\n",
    "\n",
    "south_west_corner = Location(latitude=43.751466, longitude=11.177210)\n",
    "north_east_corner = Location(latitude=43.809291, longitude=11.290195)\n",
    "# \n",
    "# \n",
    "VehicleRoutePlan(name=\"Kinzia\",\n",
    "                 south_west_corner=south_west_corner,\n",
    "                 north_east_corner=north_east_corner,\n",
    "                 vehicles=vehicles,\n",
    "                 visits=visits)\n"
   ]
  },
  {
   "cell_type": "markdown",
   "metadata": {},
   "source": [
    "# Test for real data"
   ]
  },
  {
   "cell_type": "markdown",
   "metadata": {},
   "source": [
    "## imports"
   ]
  },
  {
   "cell_type": "code",
   "execution_count": 21,
   "metadata": {},
   "outputs": [],
   "source": [
    "from src.vehicle_routing.demo_data import DemoData, generate_demo_data\n",
    "from src.vehicle_routing.domain import Location, Visit, Vehicle, VehicleRoutePlan\n",
    "import pandas as pd\n",
    "from datetime import date, datetime, time, timedelta\n"
   ]
  },
  {
   "cell_type": "markdown",
   "metadata": {},
   "source": [
    "## const data and read from csv as dataframe"
   ]
  },
  {
   "cell_type": "code",
   "execution_count": 22,
   "metadata": {},
   "outputs": [
    {
     "name": "stdout",
     "output_type": "stream",
     "text": [
      "/home/t/TLDR/TRP\n"
     ]
    },
    {
     "data": {
      "text/plain": [
       "'/home/t/TLDR/TRP'"
      ]
     },
     "execution_count": 22,
     "metadata": {},
     "output_type": "execute_result"
    }
   ],
   "source": [
    "!pwd\n",
    "import os\n",
    "os.getcwd()"
   ]
  },
  {
   "cell_type": "code",
   "execution_count": 23,
   "metadata": {},
   "outputs": [],
   "source": [
    "SERVICE_DURATION_MINUTES = (10, 20, 30, 40)\n",
    "MORNING_WINDOW_START = time(8, 0)\n",
    "MORNING_WINDOW_END = time(12, 0)\n",
    "AFTERNOON_WINDOW_START = time(13, 0)\n",
    "AFTERNOON_WINDOW_END = time(18, 0)\n",
    "\n",
    "prefix_path = \"src/vehicle_routing/data/\"\n",
    "# Getting data\n",
    "order = pd.read_csv(prefix_path+\"Orders.csv\")\n",
    "customer = pd.read_csv(prefix_path + \"Customer.csv\")\n",
    "product = pd.read_csv(prefix_path + \"Product.csv\")\n",
    "truck = pd.read_csv(prefix_path + \"Trucks.csv\")\n",
    "\n",
    "# Convert all 2nd row to columns for each table\n",
    "tables = [order, customer, product, truck]\n",
    "\n",
    "for table in tables:\n",
    "    table.columns = table.iloc[1]\n",
    "    table = table.drop([0,1], axis=0, inplace=True)\n",
    "\n",
    "char = \"٫\"\n",
    "converter = lambda c: c.replace(char, \".\")\n",
    "\n",
    "for i in [1, 2]:\n",
    "    customer[customer.columns[i]] = customer[customer.columns[i]].apply(converter).apply(float)\n",
    "\n",
    "for i in [7, 8, 9, 10]:\n",
    "    product[product.columns[i]] = product[product.columns[i]].apply(converter).apply(float)\n",
    "\n",
    "order['SalesQty'] = order['SalesQty'].apply(int)\n",
    "\n",
    "for i in [0, 2, 3, 4]:\n",
    "    truck[truck.columns[i]] = truck[truck.columns[i]].astype(int)\n"
   ]
  },
  {
   "cell_type": "markdown",
   "metadata": {},
   "source": [
    "## see what inside the data frames"
   ]
  },
  {
   "cell_type": "code",
   "execution_count": 24,
   "metadata": {},
   "outputs": [
    {
     "data": {
      "text/html": [
       "<div>\n",
       "<style scoped>\n",
       "    .dataframe tbody tr th:only-of-type {\n",
       "        vertical-align: middle;\n",
       "    }\n",
       "\n",
       "    .dataframe tbody tr th {\n",
       "        vertical-align: top;\n",
       "    }\n",
       "\n",
       "    .dataframe thead th {\n",
       "        text-align: right;\n",
       "    }\n",
       "</style>\n",
       "<table border=\"1\" class=\"dataframe\">\n",
       "  <thead>\n",
       "    <tr style=\"text-align: right;\">\n",
       "      <th>1</th>\n",
       "      <th>Customer #</th>\n",
       "      <th>Invoice #</th>\n",
       "      <th>Item #</th>\n",
       "      <th>SalesQty</th>\n",
       "    </tr>\n",
       "  </thead>\n",
       "  <tbody>\n",
       "    <tr>\n",
       "      <th>2</th>\n",
       "      <td>100022</td>\n",
       "      <td>INV-001321</td>\n",
       "      <td>CSD-11100103</td>\n",
       "      <td>15</td>\n",
       "    </tr>\n",
       "    <tr>\n",
       "      <th>3</th>\n",
       "      <td>100022</td>\n",
       "      <td>INV-001321</td>\n",
       "      <td>CSD-11100107</td>\n",
       "      <td>5</td>\n",
       "    </tr>\n",
       "    <tr>\n",
       "      <th>4</th>\n",
       "      <td>100022</td>\n",
       "      <td>INV-001321</td>\n",
       "      <td>CSD-11100109</td>\n",
       "      <td>8</td>\n",
       "    </tr>\n",
       "    <tr>\n",
       "      <th>5</th>\n",
       "      <td>100022</td>\n",
       "      <td>INV-001321</td>\n",
       "      <td>CSD-11100110</td>\n",
       "      <td>5</td>\n",
       "    </tr>\n",
       "    <tr>\n",
       "      <th>6</th>\n",
       "      <td>100022</td>\n",
       "      <td>INV-001321</td>\n",
       "      <td>CSD-11100112</td>\n",
       "      <td>10</td>\n",
       "    </tr>\n",
       "  </tbody>\n",
       "</table>\n",
       "</div>"
      ],
      "text/plain": [
       "1 Customer #   Invoice #        Item #  SalesQty\n",
       "2     100022  INV-001321  CSD-11100103        15\n",
       "3     100022  INV-001321  CSD-11100107         5\n",
       "4     100022  INV-001321  CSD-11100109         8\n",
       "5     100022  INV-001321  CSD-11100110         5\n",
       "6     100022  INV-001321  CSD-11100112        10"
      ]
     },
     "execution_count": 24,
     "metadata": {},
     "output_type": "execute_result"
    }
   ],
   "source": [
    "order.head()"
   ]
  },
  {
   "cell_type": "code",
   "execution_count": 25,
   "metadata": {},
   "outputs": [
    {
     "data": {
      "text/html": [
       "<div>\n",
       "<style scoped>\n",
       "    .dataframe tbody tr th:only-of-type {\n",
       "        vertical-align: middle;\n",
       "    }\n",
       "\n",
       "    .dataframe tbody tr th {\n",
       "        vertical-align: top;\n",
       "    }\n",
       "\n",
       "    .dataframe thead th {\n",
       "        text-align: right;\n",
       "    }\n",
       "</style>\n",
       "<table border=\"1\" class=\"dataframe\">\n",
       "  <thead>\n",
       "    <tr style=\"text-align: right;\">\n",
       "      <th>1</th>\n",
       "      <th>customerNo</th>\n",
       "      <th>Latitude</th>\n",
       "      <th>Longitude</th>\n",
       "    </tr>\n",
       "  </thead>\n",
       "  <tbody>\n",
       "    <tr>\n",
       "      <th>2</th>\n",
       "      <td>102215</td>\n",
       "      <td>21.501795</td>\n",
       "      <td>39.244198</td>\n",
       "    </tr>\n",
       "    <tr>\n",
       "      <th>3</th>\n",
       "      <td>104085</td>\n",
       "      <td>21.745882</td>\n",
       "      <td>39.194070</td>\n",
       "    </tr>\n",
       "    <tr>\n",
       "      <th>4</th>\n",
       "      <td>103678</td>\n",
       "      <td>21.589452</td>\n",
       "      <td>39.219122</td>\n",
       "    </tr>\n",
       "    <tr>\n",
       "      <th>5</th>\n",
       "      <td>104166</td>\n",
       "      <td>21.454958</td>\n",
       "      <td>39.207412</td>\n",
       "    </tr>\n",
       "    <tr>\n",
       "      <th>6</th>\n",
       "      <td>101617</td>\n",
       "      <td>21.771004</td>\n",
       "      <td>39.220411</td>\n",
       "    </tr>\n",
       "  </tbody>\n",
       "</table>\n",
       "</div>"
      ],
      "text/plain": [
       "1 customerNo   Latitude  Longitude\n",
       "2     102215  21.501795  39.244198\n",
       "3     104085  21.745882  39.194070\n",
       "4     103678  21.589452  39.219122\n",
       "5     104166  21.454958  39.207412\n",
       "6     101617  21.771004  39.220411"
      ]
     },
     "execution_count": 25,
     "metadata": {},
     "output_type": "execute_result"
    }
   ],
   "source": [
    "customer.head()"
   ]
  },
  {
   "cell_type": "code",
   "execution_count": 26,
   "metadata": {},
   "outputs": [
    {
     "data": {
      "text/html": [
       "<div>\n",
       "<style scoped>\n",
       "    .dataframe tbody tr th:only-of-type {\n",
       "        vertical-align: middle;\n",
       "    }\n",
       "\n",
       "    .dataframe tbody tr th {\n",
       "        vertical-align: top;\n",
       "    }\n",
       "\n",
       "    .dataframe thead th {\n",
       "        text-align: right;\n",
       "    }\n",
       "</style>\n",
       "<table border=\"1\" class=\"dataframe\">\n",
       "  <thead>\n",
       "    <tr style=\"text-align: right;\">\n",
       "      <th>1</th>\n",
       "      <th>Item #</th>\n",
       "      <th>Product Name</th>\n",
       "      <th>Can Size\\n(in mL)</th>\n",
       "      <th>Can\\n(in case)</th>\n",
       "      <th>Packaging\\n(carton)</th>\n",
       "      <th>Pallet Size \\n(carton)</th>\n",
       "      <th>Cases per Pallet</th>\n",
       "      <th>Gross Carton Weight  \\n(in Kg)</th>\n",
       "      <th>Carton Length  \\n(in cm)</th>\n",
       "      <th>Carton Width  \\n(in cm)</th>\n",
       "      <th>Carton  Height \\n(in cm)</th>\n",
       "    </tr>\n",
       "  </thead>\n",
       "  <tbody>\n",
       "    <tr>\n",
       "      <th>2</th>\n",
       "      <td>CSD-11100101</td>\n",
       "      <td>Lift Up</td>\n",
       "      <td>250</td>\n",
       "      <td>30 Can</td>\n",
       "      <td>Case</td>\n",
       "      <td>100 x 120</td>\n",
       "      <td>144</td>\n",
       "      <td>8.30</td>\n",
       "      <td>32.5</td>\n",
       "      <td>27.0</td>\n",
       "      <td>11.80</td>\n",
       "    </tr>\n",
       "    <tr>\n",
       "      <th>3</th>\n",
       "      <td>CSD-11100102</td>\n",
       "      <td>KINZA COLA</td>\n",
       "      <td>360</td>\n",
       "      <td>24 Can</td>\n",
       "      <td>Case</td>\n",
       "      <td>100 x 120</td>\n",
       "      <td>130</td>\n",
       "      <td>9.50</td>\n",
       "      <td>40.2</td>\n",
       "      <td>27.0</td>\n",
       "      <td>12.45</td>\n",
       "    </tr>\n",
       "    <tr>\n",
       "      <th>4</th>\n",
       "      <td>CSD-11100103</td>\n",
       "      <td>KINZA COLA</td>\n",
       "      <td>250</td>\n",
       "      <td>30 Can</td>\n",
       "      <td>Case</td>\n",
       "      <td>100 x 120</td>\n",
       "      <td>144</td>\n",
       "      <td>8.30</td>\n",
       "      <td>32.5</td>\n",
       "      <td>27.0</td>\n",
       "      <td>11.80</td>\n",
       "    </tr>\n",
       "    <tr>\n",
       "      <th>5</th>\n",
       "      <td>CSD-11100104</td>\n",
       "      <td>KINZA COLA</td>\n",
       "      <td>185</td>\n",
       "      <td>30 Can</td>\n",
       "      <td>Case</td>\n",
       "      <td>100 x 120</td>\n",
       "      <td>192</td>\n",
       "      <td>6.15</td>\n",
       "      <td>32.5</td>\n",
       "      <td>27.0</td>\n",
       "      <td>11.80</td>\n",
       "    </tr>\n",
       "    <tr>\n",
       "      <th>6</th>\n",
       "      <td>CSD-11100105</td>\n",
       "      <td>KINZA Orange</td>\n",
       "      <td>360</td>\n",
       "      <td>24 Can</td>\n",
       "      <td>Case</td>\n",
       "      <td>100 x 120</td>\n",
       "      <td>130</td>\n",
       "      <td>9.50</td>\n",
       "      <td>40.2</td>\n",
       "      <td>27.0</td>\n",
       "      <td>11.80</td>\n",
       "    </tr>\n",
       "  </tbody>\n",
       "</table>\n",
       "</div>"
      ],
      "text/plain": [
       "1        Item #  Product Name Can Size\\n(in mL)  Can\\n(in case)  \\\n",
       "2  CSD-11100101       Lift Up               250          30 Can   \n",
       "3  CSD-11100102    KINZA COLA               360          24 Can   \n",
       "4  CSD-11100103    KINZA COLA               250          30 Can   \n",
       "5  CSD-11100104    KINZA COLA               185          30 Can   \n",
       "6  CSD-11100105  KINZA Orange               360          24 Can   \n",
       "\n",
       "1 Packaging\\n(carton) Pallet Size \\n(carton) Cases per Pallet  \\\n",
       "2                Case              100 x 120              144   \n",
       "3                Case              100 x 120              130   \n",
       "4                Case              100 x 120              144   \n",
       "5                Case              100 x 120              192   \n",
       "6                Case              100 x 120              130   \n",
       "\n",
       "1  Gross Carton Weight  \\n(in Kg)  Carton Length  \\n(in cm)  \\\n",
       "2                            8.30                      32.5   \n",
       "3                            9.50                      40.2   \n",
       "4                            8.30                      32.5   \n",
       "5                            6.15                      32.5   \n",
       "6                            9.50                      40.2   \n",
       "\n",
       "1  Carton Width  \\n(in cm)  Carton  Height \\n(in cm)  \n",
       "2                     27.0                     11.80  \n",
       "3                     27.0                     12.45  \n",
       "4                     27.0                     11.80  \n",
       "5                     27.0                     11.80  \n",
       "6                     27.0                     11.80  "
      ]
     },
     "execution_count": 26,
     "metadata": {},
     "output_type": "execute_result"
    }
   ],
   "source": [
    "product.head()"
   ]
  },
  {
   "cell_type": "code",
   "execution_count": 27,
   "metadata": {},
   "outputs": [
    {
     "data": {
      "text/html": [
       "<div>\n",
       "<style scoped>\n",
       "    .dataframe tbody tr th:only-of-type {\n",
       "        vertical-align: middle;\n",
       "    }\n",
       "\n",
       "    .dataframe tbody tr th {\n",
       "        vertical-align: top;\n",
       "    }\n",
       "\n",
       "    .dataframe thead th {\n",
       "        text-align: right;\n",
       "    }\n",
       "</style>\n",
       "<table border=\"1\" class=\"dataframe\">\n",
       "  <thead>\n",
       "    <tr style=\"text-align: right;\">\n",
       "      <th>1</th>\n",
       "      <th>Truck ID</th>\n",
       "      <th>Truck Name</th>\n",
       "      <th>Capacity (Pallets)</th>\n",
       "      <th>Multiple Trips\\n(# of trips)</th>\n",
       "      <th>Priority</th>\n",
       "    </tr>\n",
       "  </thead>\n",
       "  <tbody>\n",
       "    <tr>\n",
       "      <th>2</th>\n",
       "      <td>1</td>\n",
       "      <td>TruckA8 1</td>\n",
       "      <td>8</td>\n",
       "      <td>3</td>\n",
       "      <td>8</td>\n",
       "    </tr>\n",
       "    <tr>\n",
       "      <th>3</th>\n",
       "      <td>2</td>\n",
       "      <td>TruckB6 1</td>\n",
       "      <td>6</td>\n",
       "      <td>2</td>\n",
       "      <td>1</td>\n",
       "    </tr>\n",
       "    <tr>\n",
       "      <th>4</th>\n",
       "      <td>3</td>\n",
       "      <td>TruckB6 2</td>\n",
       "      <td>6</td>\n",
       "      <td>2</td>\n",
       "      <td>2</td>\n",
       "    </tr>\n",
       "    <tr>\n",
       "      <th>5</th>\n",
       "      <td>4</td>\n",
       "      <td>TruckB6 3</td>\n",
       "      <td>6</td>\n",
       "      <td>2</td>\n",
       "      <td>3</td>\n",
       "    </tr>\n",
       "    <tr>\n",
       "      <th>6</th>\n",
       "      <td>5</td>\n",
       "      <td>TruckB6 4</td>\n",
       "      <td>6</td>\n",
       "      <td>2</td>\n",
       "      <td>4</td>\n",
       "    </tr>\n",
       "  </tbody>\n",
       "</table>\n",
       "</div>"
      ],
      "text/plain": [
       "1  Truck ID Truck Name  Capacity (Pallets)  Multiple Trips\\n(# of trips)  \\\n",
       "2         1  TruckA8 1                   8                             3   \n",
       "3         2  TruckB6 1                   6                             2   \n",
       "4         3  TruckB6 2                   6                             2   \n",
       "5         4  TruckB6 3                   6                             2   \n",
       "6         5  TruckB6 4                   6                             2   \n",
       "\n",
       "1  Priority  \n",
       "2         8  \n",
       "3         1  \n",
       "4         2  \n",
       "5         3  \n",
       "6         4  "
      ]
     },
     "execution_count": 27,
     "metadata": {},
     "output_type": "execute_result"
    }
   ],
   "source": [
    "truck.head()"
   ]
  },
  {
   "cell_type": "code",
   "execution_count": 28,
   "metadata": {},
   "outputs": [],
   "source": [
    "def get_invoices(customer_id):\n",
    "    invoices = order[order[order.columns[0]] == customer_id].groupby(order.columns[1])\n",
    "    return invoices"
   ]
  },
  {
   "cell_type": "code",
   "execution_count": 29,
   "metadata": {},
   "outputs": [],
   "source": [
    "# # for customer_values in customer.values:\n",
    "#     print(customer_values[0])"
   ]
  },
  {
   "cell_type": "code",
   "execution_count": 37,
   "metadata": {},
   "outputs": [],
   "source": [
    "# for customer_values in customer.values:\n",
    "#     invoices = get_invoices(customer_values[0])\n",
    "#     inv_len = len(invoices)\n",
    "#     rows = []\n",
    "    \n",
    "#     for invoice in invoices:\n",
    "#         invoice_id = invoice[0]\n",
    "#         invoice_items = invoice[1]\n",
    "#         # print(create_row_html_with_dropdown(0, invoice_id, invoice_items))\n",
    "#         # rows.append(create_row_html_with_dropdown(0, invoice_id, invoice_items))\n",
    "#         print(invoice_id)\n",
    "#         invoice_area = 0\n",
    "#         fit_on_truck = 0\n",
    "#         for item in invoice_items.values:\n",
    "#             item_id = item[2]\n",
    "#             qty = int(item[3])\n",
    "#             print(item_id, qty)\n",
    "#             item_data = product[item[2] == product[product.columns[0]]]\n",
    "#             item_l_w = item_data[[product.columns[8], product.columns[9]]].values[0]\n",
    "    \n",
    "#             invoice_area += item_l_w[0] * item_l_w[1]\n",
    "#             fit_on_truck += 12000 / (item_l_w[0] * item_l_w[1])\n",
    "        \n",
    "#         print(math.floor(12000/invoice_area), math.floor(fit_on_truck))\n",
    "#         print(math.floor(fit_on_truck))\n",
    "    \n"
   ]
  },
  {
   "cell_type": "code",
   "execution_count": 44,
   "metadata": {},
   "outputs": [
    {
     "name": "stdout",
     "output_type": "stream",
     "text": [
      "        Invoice ID  Fit on Truck   Latitude  Longitude\n",
      "0    INV-JD-079768     13.675214  21.501795  39.244198\n",
      "1    INV-JD-081078      6.837607  21.501795  39.244198\n",
      "2    INV-JD-081079     13.675214  21.501795  39.244198\n",
      "3    INV-JD-081085     13.675214  21.501795  39.244198\n",
      "4       INV-001367      0.964088  21.745882  39.194070\n",
      "..             ...           ...        ...        ...\n",
      "198  INV-JD-081084     11.055832  21.436995  39.196663\n",
      "199  INV-JD-081975      3.056702  21.436995  39.196663\n",
      "200  INV-JD-082008     13.675214  21.436995  39.196663\n",
      "201  INV-JD-082368      2.037801  21.436995  39.196663\n",
      "202  INV-JD-082469      1.613814  21.483831  39.309264\n",
      "\n",
      "[203 rows x 4 columns]\n"
     ]
    }
   ],
   "source": [
    "import pandas as pd\n",
    "import math\n",
    "\n",
    "def get_invoices(customer_id):\n",
    "    invoices = order[order[order.columns[0]] == customer_id].groupby(order.columns[1])\n",
    "    return invoices\n",
    "\n",
    "# Assuming `customer` is a DataFrame containing customer details including 'Latitude' and 'Longitude'\n",
    "customer_locations = customer[['customerNo', 'Latitude', 'Longitude']]\n",
    "\n",
    "table_rows = []  # List to store the rows for the table\n",
    "\n",
    "for customer_values in customer.values:\n",
    "    customer_id = customer_values[0]\n",
    "    latitude = customer_values[1]\n",
    "    longitude = customer_values[2]\n",
    "    \n",
    "    invoices = get_invoices(customer_id)\n",
    "    inv_len = len(invoices)\n",
    "    \n",
    "    for invoice in invoices:\n",
    "        invoice_id = invoice[0]\n",
    "        invoice_items = invoice[1]\n",
    "        invoice_area = 0\n",
    "        fit_on_truck = 0\n",
    "        \n",
    "        for item in invoice_items.values:\n",
    "            item_id = item[2]\n",
    "            qty = int(item[3])\n",
    "            item_data = product[item[2] == product[product.columns[0]]]\n",
    "            item_l_w = item_data[[product.columns[8], product.columns[9]]].values[0]\n",
    "    \n",
    "            invoice_area += item_l_w[0] * item_l_w[1]\n",
    "            fit_on_truck += 12000 / (item_l_w[0] * item_l_w[1])\n",
    "        \n",
    "        # Append the row data to the table\n",
    "        table_rows.append({\n",
    "            \"Invoice ID\": invoice_id,\n",
    "            \"Fit on Truck\": 12000/invoice_area,\n",
    "            \"Latitude\": latitude,\n",
    "            \"Longitude\": longitude\n",
    "        })\n",
    "\n",
    "# Convert to a pandas DataFrame to display as a table\n",
    "table_df = pd.DataFrame(table_rows)\n",
    "print(table_df)\n"
   ]
  },
  {
   "cell_type": "markdown",
   "metadata": {},
   "source": [
    "## Make Integration with VRP"
   ]
  },
  {
   "cell_type": "markdown",
   "metadata": {},
   "source": [
    "### Visits"
   ]
  },
  {
   "cell_type": "code",
   "execution_count": 32,
   "metadata": {},
   "outputs": [
    {
     "name": "stdout",
     "output_type": "stream",
     "text": [
      "['102215' 21.501795 39.24419833]\n",
      "['104085' 21.74588167 39.19407]\n",
      "['103678' 21.58945167 39.21912167]\n",
      "['104166' 21.45495833 39.20741167]\n",
      "['101617' 21.7710044 39.2204109]\n",
      "['101773' 21.5414813 39.2886656]\n",
      "['102264' 21.42749167 39.19056333]\n",
      "['101747' 21.43649657 39.19649943]\n",
      "['103589' 21.85089667 39.20090833]\n",
      "['100575' 21.30870532 39.26200066]\n",
      "['102985' 21.79457547 39.11912732]\n",
      "['100480' 21.309315 39.26082833]\n",
      "['101745' 21.58959796 39.22022766]\n",
      "['101736' 21.44191467 39.20195287]\n",
      "['103519' 21.56520833 39.19109833]\n",
      "['103836' 21.55959887 39.24909585]\n",
      "['100956' 21.5959682 39.1674466]\n",
      "['103514' 21.78516347 39.09091693]\n",
      "['100192' 21.74981428 39.19414742]\n",
      "['102100' 21.51347202 39.20027886]\n",
      "['101894' 21.27643333 39.276445]\n",
      "['101906' 21.51312667 39.25092833]\n",
      "['100096' 21.4607257 39.2468377]\n",
      "['103947' 21.78748459 39.1762178]\n",
      "['100388' 21.576593 39.24061]\n",
      "['100364' 21.75840166 39.189875]\n",
      "['101720' 21.41888093 39.19221498]\n",
      "['101725' 21.56484246 39.19117289]\n",
      "['104174' 21.455005 39.20734667]\n",
      "['103932' 21.45966 39.20858167]\n",
      "['102309' 21.462075 39.24696333]\n",
      "['101743' 21.4337653 39.19091618]\n",
      "['100099' 21.40930802 39.25782021]\n",
      "['101718' 21.59208767 39.21878148]\n",
      "['102231' 21.43965667 39.20573667]\n",
      "['103345' 21.62124689 39.17101239]\n",
      "['100297' 21.58334166 39.12929166]\n",
      "['101709' 21.43381696 39.20308027]\n",
      "['101734' 21.45884577 39.26184909]\n",
      "['100491' 21.61951666 39.19491833]\n",
      "['100258' 21.51479333 39.16489833]\n",
      "['100452' 21.41975666 39.29488833]\n",
      "['101936' 21.55039 39.205445]\n",
      "['100997' 21.78201066 39.08563463]\n",
      "['101605' 21.76398492 39.20398858]\n",
      "['101726' 21.58954062 39.21799285]\n",
      "['104054' 21.54267 39.18264667]\n",
      "['101732' 21.430755 39.195945]\n",
      "['100022' 21.78962485 39.12966513]\n",
      "['100574' 21.79755704 39.13822987]\n",
      "['100495' 21.77768574 39.21662264]\n",
      "['101737' 21.43699533 39.19666294]\n",
      "['101765' 21.770426 39.219738]\n",
      "['101730' 21.43623019 39.19652984]\n",
      "['101728' 21.43699533 39.19666294]\n",
      "['102854' 21.48383112 39.3092635]\n"
     ]
    }
   ],
   "source": [
    "for visit_data in customer.values:\n",
    "    print(visit_data)"
   ]
  },
  {
   "cell_type": "code",
   "execution_count": 33,
   "metadata": {},
   "outputs": [],
   "source": [
    "demand = 2\n",
    "latitude = 21.501795\n",
    "longitude = 39.244198\n",
    "visits = [Visit(\n",
    "    id=str(visit_data[0]),\n",
    "    name=str(visit_data[0]),\n",
    "    location=Location(latitude=visit_data[1], longitude=visit_data[2]),\n",
    "    demand=demand,\n",
    "    min_start_time=datetime.combine(date.today() + timedelta(days=1), MORNING_WINDOW_START),\n",
    "    max_end_time=datetime.combine(date.today() + timedelta(days=1), AFTERNOON_WINDOW_END),\n",
    "    service_duration=timedelta(minutes=SERVICE_DURATION_MINUTES[3]),\n",
    ") for visit_data in customer.values]"
   ]
  },
  {
   "cell_type": "markdown",
   "metadata": {},
   "source": [
    "### Vehicle"
   ]
  },
  {
   "cell_type": "code",
   "execution_count": 40,
   "metadata": {},
   "outputs": [
    {
     "data": {
      "text/plain": [
       "np.int64(90)"
      ]
     },
     "execution_count": 40,
     "metadata": {},
     "output_type": "execute_result"
    }
   ],
   "source": [
    "(truck[\"Capacity (Pallets)\"] * truck[\"Multiple Trips\\n(# of trips)\"]).sum()"
   ]
  },
  {
   "cell_type": "code",
   "execution_count": 34,
   "metadata": {},
   "outputs": [
    {
     "name": "stdout",
     "output_type": "stream",
     "text": [
      "8\n",
      "6\n",
      "6\n",
      "6\n",
      "6\n",
      "6\n",
      "6\n",
      "6\n"
     ]
    }
   ],
   "source": [
    "# len(truck)\n",
    "for truck_data in truck.values:\n",
    "    print(truck_data[2])"
   ]
  },
  {
   "cell_type": "code",
   "execution_count": 35,
   "metadata": {},
   "outputs": [],
   "source": [
    "vehicle_start_time = time(7, 30)\n",
    "vehicle_count = len(truck)\n",
    "dept_latitude = 21.501795\n",
    "dept_longitude = 39.244198\n",
    "\n",
    "\n",
    "\n",
    "\n",
    "# vehicle_capacity = 5\n",
    "vehicles = [Vehicle(id=str(truck_data[0]),\n",
    "        capacity=truck_data[2],\n",
    "        home_location=Location(\n",
    "            latitude=dept_latitude,\n",
    "            longitude=dept_longitude),\n",
    "        departure_time=datetime.combine(\n",
    "            date.today() + timedelta(days=1), vehicle_start_time)\n",
    "       ) for truck_data in truck.values]"
   ]
  },
  {
   "cell_type": "markdown",
   "metadata": {},
   "source": [
    "### VehicleRoutePlan"
   ]
  },
  {
   "cell_type": "code",
   "execution_count": 36,
   "metadata": {},
   "outputs": [
    {
     "data": {
      "text/plain": [
       "VehicleRoutePlan(name='Kinzia', south_west_corner=Location(43.751466, 11.17721), north_east_corner=Location(43.809291, 11.290195), vehicles=[Vehicle(1), Vehicle(2), Vehicle(3), Vehicle(4), Vehicle(5), Vehicle(6), Vehicle(7), Vehicle(8)], visits=[Visit(102215), Visit(104085), Visit(103678), Visit(104166), Visit(101617), Visit(101773), Visit(102264), Visit(101747), Visit(103589), Visit(100575), Visit(102985), Visit(100480), Visit(101745), Visit(101736), Visit(103519), Visit(103836), Visit(100956), Visit(103514), Visit(100192), Visit(102100), Visit(101894), Visit(101906), Visit(100096), Visit(103947), Visit(100388), Visit(100364), Visit(101720), Visit(101725), Visit(104174), Visit(103932), Visit(102309), Visit(101743), Visit(100099), Visit(101718), Visit(102231), Visit(103345), Visit(100297), Visit(101709), Visit(101734), Visit(100491), Visit(100258), Visit(100452), Visit(101936), Visit(100997), Visit(101605), Visit(101726), Visit(104054), Visit(101732), Visit(100022), Visit(100574), Visit(100495), Visit(101737), Visit(101765), Visit(101730), Visit(101728), Visit(102854)], score=None, solver_status=None, total_driving_time_seconds=0)"
      ]
     },
     "execution_count": 36,
     "metadata": {},
     "output_type": "execute_result"
    }
   ],
   "source": [
    "south_west_corner = Location(latitude=43.751466, longitude=11.177210)\n",
    "north_east_corner = Location(latitude=43.809291, longitude=11.290195)\n",
    "# \n",
    "# \n",
    "VehicleRoutePlan(name=\"Kinzia\",\n",
    "                 south_west_corner=south_west_corner,\n",
    "                 north_east_corner=north_east_corner,\n",
    "                 vehicles=vehicles,\n",
    "                 visits=visits)"
   ]
  }
 ],
 "metadata": {
  "anaconda-cloud": {},
  "kernelspec": {
   "display_name": "Python 3 (ipykernel)",
   "language": "python",
   "name": "python3"
  },
  "language_info": {
   "codemirror_mode": {
    "name": "ipython",
    "version": 3
   },
   "file_extension": ".py",
   "mimetype": "text/x-python",
   "name": "python",
   "nbconvert_exporter": "python",
   "pygments_lexer": "ipython3",
   "version": "3.12.6"
  },
  "widgets": {
   "application/vnd.jupyter.widget-state+json": {
    "state": {},
    "version_major": 2,
    "version_minor": 0
   }
  }
 },
 "nbformat": 4,
 "nbformat_minor": 4
}
