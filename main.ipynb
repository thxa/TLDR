{
  "cells": [
    {
      "cell_type": "code",
      "metadata": {
        "jukit_cell_id": "vMCDQWSeq0"
      },
      "source": [
        "import os\n",
        "from jinja2.environment import create_cache\n",
        "import pandas as pd\n",
        "import numpy as np\n",
        "import matplotlib.pyplot as plt\n",
        "from geopy.distance import geodesic\n",
        "from sklearn.cluster import KMeans\n",
        "import folium\n",
        "# from arcgis.gis import GIS\n",
        "# from arcgis.geometry import Point\n",
        "# from arcgis.mapping import MapView\n",
        "import sqlite3\n",
        "# from sqlalchemy import create_engine, text\n",
        "\n",
        "from sklearn.cluster import DBSCAN"
      ],
      "outputs": [],
      "execution_count": null
    },
    {
      "cell_type": "markdown",
      "metadata": {
        "jukit_cell_id": "PVEy53ixSW"
      },
      "source": [
        "# Truck Loading and Delivery Routes (TLDR)\n",
        "\n",
        "Problem Statement:\n",
        "- Automate assigning customer orders to trucks.\n",
        "- Optimize truck routes to ensure they arrive at customers via the shortest path.\n",
        "\n",
        "Data:\n",
        "- order\n",
        "- customer\n",
        "- product\n",
        "- truck\n",
        "\n",
        "order:\n",
        "- Customer # : The unique identifier for each customer.\n",
        "- Invoice # : The unique identifier for each order.\n",
        "- Item # : The unique identifier for the product being ordered.\n",
        "- SalesQty : The quantity of the product ordered.\n",
        "\n",
        "customer:\n",
        "- customerNo : The unique identifier for each customer.\n",
        "- Latitude : The geographical latitude of the customer's location.\n",
        "- Longitude : The geographical longitude of the customer's location.\n",
        "\n",
        "product:\n",
        "- Item # : The unique identifier for the product.\n",
        "- Product Name : The name of the product.\n",
        "- Can Size (in mL) : The size of the product can in milliliters.\n",
        "- Can (in case) : Number of cans per case.\n",
        "- Packaging (carton) : Details about how the product is packaged in cartons.\n",
        "- Pallet Size (carton) : The size of the pallet containing cartons.\n",
        "- Cases per Pallet : The number of cases that fit on a pallet.\n",
        "- Gross Carton Weight (in Kg) : The weight of the carton in kilograms.\n",
        "- Carton Length (in cm) : The length of the carton in centimeters.\n",
        "- Carton Width (in cm) : The width of the carton in centimeters.\n",
        "- Carton Height (in cm) : The height of the carton in centimeters.\n",
        "\n",
        "truck:\n",
        "- Truck ID : The unique identifier for each truck.\n",
        "- Truck Name : The name or model of the truck.\n",
        "- Capacity (Pallets) : The truck's carrying capacity in terms of pallets.\n",
        "- Multiple Trips (# of trips) : The number of trips the truck can make.\n",
        "- Priority : The priority level assigned to the truck for deliveries."
      ]
    },
    {
      "cell_type": "markdown",
      "metadata": {
        "jukit_cell_id": "2FFA0S85fi"
      },
      "source": [
        "## Create Dataframes from csv files"
      ]
    },
    {
      "cell_type": "code",
      "metadata": {
        "jukit_cell_id": "WXTD6sKCRM"
      },
      "source": [
        "order = pd.read_csv(\"Orders.csv\")\n",
        "customer = pd.read_csv(\"Customer.csv\")\n",
        "product = pd.read_csv(\"Product.csv\")\n",
        "truck = pd.read_csv(\"Trucks.csv\")"
      ],
      "outputs": [],
      "execution_count": null
    },
    {
      "cell_type": "markdown",
      "metadata": {
        "jukit_cell_id": "S9n94HHdeT"
      },
      "source": [
        "## Create Dataframes from csv files"
      ]
    },
    {
      "cell_type": "code",
      "metadata": {
        "jukit_cell_id": "mjv3LfNFK3"
      },
      "source": [
        "# Convert all 2nd row to columns for each table\n",
        "tables = [order, customer, product, truck]\n",
        "\n",
        "for table in tables:\n",
        "    table.columns = table.iloc[1]\n",
        "    # table = table.iloc[2:, :]\n",
        "    table = table.drop([0,1], axis=0, inplace=True)"
      ],
      "outputs": [],
      "execution_count": null
    },
    {
      "cell_type": "code",
      "metadata": {
        "jukit_cell_id": "ltBE3179i6"
      },
      "source": [
        "for table in tables:\n",
        "    table.info()\n",
        "    print(\"\\n\")"
      ],
      "outputs": [
        {
          "output_type": "stream",
          "name": "stdout",
          "text": "<class 'pandas.core.frame.DataFrame'>\nRangeIndex: 1000 entries, 2 to 1001\nData columns (total 4 columns):\n #   Column      Non-Null Count  Dtype \n---  ------      --------------  ----- \n 0   Customer #  1000 non-null   object\n 1   Invoice #   1000 non-null   object\n 2   Item #      1000 non-null   object\n 3   SalesQty    1000 non-null   object\ndtypes: object(4)\nmemory usage: 31.4+ KB\n\n\n<class 'pandas.core.frame.DataFrame'>\nRangeIndex: 56 entries, 2 to 57\nData columns (total 3 columns):\n #   Column      Non-Null Count  Dtype \n---  ------      --------------  ----- \n 0   customerNo  56 non-null     object\n 1   Latitude    56 non-null     object\n 2   Longitude   56 non-null     object\ndtypes: object(3)\nmemory usage: 1.4+ KB\n\n\n<class 'pandas.core.frame.DataFrame'>\nRangeIndex: 26 entries, 2 to 27\nData columns (total 11 columns):\n #   Column                         Non-Null Count  Dtype \n---  ------                         --------------  ----- \n 0   Item #                         26 non-null     object\n 1   Product Name                   26 non-null     object\n 2   Can Size\n(in mL)               26 non-null     object\n 3    Can\n(in case)                 26 non-null     object\n 4   Packaging\n(carton)             26 non-null     object\n 5   Pallet Size \n(carton)          26 non-null     object\n 6   Cases per Pallet               26 non-null     object\n 7   Gross Carton Weight  \n(in Kg)  26 non-null     object\n 8   Carton Length  \n(in cm)        26 non-null     object\n 9   Carton Width  \n(in cm)         26 non-null     object\n 10  Carton  Height \n(in cm)        26 non-null     object\ndtypes: object(11)\nmemory usage: 2.4+ KB\n\n\n<class 'pandas.core.frame.DataFrame'>\nRangeIndex: 8 entries, 2 to 9\nData columns (total 5 columns):\n #   Column                       Non-Null Count  Dtype \n---  ------                       --------------  ----- \n 0   Truck ID                     8 non-null      object\n 1   Truck Name                   8 non-null      object\n 2   Capacity (Pallets)           8 non-null      object\n 3   Multiple Trips\n(# of trips)  8 non-null      object\n 4   Priority                     8 non-null      object\ndtypes: object(5)\nmemory usage: 452.0+ bytes\n\n\n"
        }
      ],
      "execution_count": 1
    },
    {
      "cell_type": "markdown",
      "metadata": {
        "jukit_cell_id": "A7K7x2nzxK"
      },
      "source": [
        "### Convert all float text to real float"
      ]
    },
    {
      "cell_type": "code",
      "metadata": {
        "jukit_cell_id": "ixu2u4NKf9"
      },
      "source": [
        "char = \"\u066b\"\n",
        "converter = lambda c: c.replace(char, \".\")\n",
        "\n",
        "for i in [1, 2]:\n",
        "    customer[customer.columns[i]] = customer[customer.columns[i]].apply(converter).apply(float)\n",
        "\n",
        "for i in [7, 8, 10]:\n",
        "    product[product.columns[i]] = product[product.columns[i]].apply(converter).apply(float)\n",
        "\n",
        "\n",
        "\n",
        "# for i in [7, 8, 10]:\n",
        "#     product[product.columns[i]] = product[product.columns[i]].apply(converter).apply(float)"
      ],
      "outputs": [],
      "execution_count": null
    },
    {
      "cell_type": "code",
      "metadata": {
        "jukit_cell_id": "Vo3wspte9e"
      },
      "source": [
        "# print(order.head(5))\n",
        "# print(product.head(5))\n",
        "# print(customer.head(5))\n",
        "print(truck.head(5))"
      ],
      "outputs": [
        {
          "output_type": "stream",
          "name": "stdout",
          "text": "1 Truck ID Truck Name Capacity (Pallets) Multiple Trips\\n(# of trips) Priority\n2        1  TruckA8 1                  8                            3        8\n3        2  TruckB6 1                  6                            2        1\n4        3  TruckB6 2                  6                            2        2\n5        4  TruckB6 3                  6                            2        3\n6        5  TruckB6 4                  6                            2        4\n"
        }
      ],
      "execution_count": 2
    },
    {
      "cell_type": "markdown",
      "metadata": {
        "jukit_cell_id": "zYK7cQ7lZ2"
      },
      "source": [
        "## Create SQLite3 Databse"
      ]
    },
    {
      "cell_type": "code",
      "metadata": {
        "jukit_cell_id": "ssUu4wsfSr"
      },
      "source": [
        "def create_sqlite_database(filename):\n",
        "    \"\"\" create a database connection to an SQLite database \"\"\"\n",
        "    conn = None\n",
        "    try:\n",
        "        conn = sqlite3.connect(filename)\n",
        "        print(sqlite3.sqlite_version)\n",
        "    except sqlite3.Error as e:\n",
        "        print(e)\n",
        "    finally:\n",
        "        if conn:\n",
        "            conn.close()\n",
        "\n",
        "\n",
        "create_sqlite_database(\"database.db\")"
      ],
      "outputs": [
        {
          "output_type": "stream",
          "name": "stdout",
          "text": "3.46.1\n"
        }
      ],
      "execution_count": 3
    },
    {
      "cell_type": "markdown",
      "metadata": {
        "jukit_cell_id": "yh2wtr04PJ"
      },
      "source": [
        "Convert Dataframes to SQLite\n",
        "docs: \n",
        "    - https://pandas.pydata.org/docs/reference/api/pandas.DataFrame.to_sql.html\n",
        "    - https://www.sqlitetutorial.net/sqlite-python/creating-database/"
      ]
    },
    {
      "cell_type": "code",
      "metadata": {
        "jukit_cell_id": "spFEWUwlny"
      },
      "source": [
        "# database_file = f'sqlite://{os.getcwd()}/database.db'\n",
        "# engine = create_engine(database_file, echo=False)"
      ],
      "outputs": [],
      "execution_count": null
    },
    {
      "cell_type": "code",
      "metadata": {
        "jukit_cell_id": "86FIHxXaeQ"
      },
      "source": [
        "with sqlite3.connect(\"database.db\") as conn:\n",
        "    customer.to_sql('customer', con=conn, index=False)\n",
        "    order.to_sql('order', con=conn, index=False)\n",
        "    product.to_sql('product', con=conn, index=False)\n",
        "    truck.to_sql('truck', con=conn, index=False)"
      ],
      "outputs": [
        {
          "output_type": "stream",
          "name": "stdout",
          "text": "\u001b[0;31m---------------------------------------------------------------------------\u001b[0m\n\u001b[0;31mValueError\u001b[0m                                Traceback (most recent call last)\nCell \u001b[0;32mIn[8], line 2\u001b[0m\n\u001b[1;32m      1\u001b[0m \u001b[38;5;28;01mwith\u001b[39;00m sqlite3\u001b[38;5;241m.\u001b[39mconnect(\u001b[38;5;124m\"\u001b[39m\u001b[38;5;124mdatabase.db\u001b[39m\u001b[38;5;124m\"\u001b[39m) \u001b[38;5;28;01mas\u001b[39;00m conn:\n\u001b[0;32m----> 2\u001b[0m     \u001b[43mcustomer\u001b[49m\u001b[38;5;241;43m.\u001b[39;49m\u001b[43mto_sql\u001b[49m\u001b[43m(\u001b[49m\u001b[38;5;124;43m'\u001b[39;49m\u001b[38;5;124;43mcustomer\u001b[39;49m\u001b[38;5;124;43m'\u001b[39;49m\u001b[43m,\u001b[49m\u001b[43m \u001b[49m\u001b[43mcon\u001b[49m\u001b[38;5;241;43m=\u001b[39;49m\u001b[43mconn\u001b[49m\u001b[43m,\u001b[49m\u001b[43m \u001b[49m\u001b[43mindex\u001b[49m\u001b[38;5;241;43m=\u001b[39;49m\u001b[38;5;28;43;01mFalse\u001b[39;49;00m\u001b[43m)\u001b[49m\n\u001b[1;32m      3\u001b[0m     order\u001b[38;5;241m.\u001b[39mto_sql(\u001b[38;5;124m'\u001b[39m\u001b[38;5;124morder\u001b[39m\u001b[38;5;124m'\u001b[39m, con\u001b[38;5;241m=\u001b[39mconn, index\u001b[38;5;241m=\u001b[39m\u001b[38;5;28;01mFalse\u001b[39;00m)\n\u001b[1;32m      4\u001b[0m     product\u001b[38;5;241m.\u001b[39mto_sql(\u001b[38;5;124m'\u001b[39m\u001b[38;5;124mproduct\u001b[39m\u001b[38;5;124m'\u001b[39m, con\u001b[38;5;241m=\u001b[39mconn, index\u001b[38;5;241m=\u001b[39m\u001b[38;5;28;01mFalse\u001b[39;00m)\n\nFile \u001b[0;32m~/.local/lib/python3.12/site-packages/pandas/util/_decorators.py:333\u001b[0m, in \u001b[0;36mdeprecate_nonkeyword_arguments.<locals>.decorate.<locals>.wrapper\u001b[0;34m(*args, **kwargs)\u001b[0m\n\u001b[1;32m    327\u001b[0m \u001b[38;5;28;01mif\u001b[39;00m \u001b[38;5;28mlen\u001b[39m(args) \u001b[38;5;241m>\u001b[39m num_allow_args:\n\u001b[1;32m    328\u001b[0m     warnings\u001b[38;5;241m.\u001b[39mwarn(\n\u001b[1;32m    329\u001b[0m         msg\u001b[38;5;241m.\u001b[39mformat(arguments\u001b[38;5;241m=\u001b[39m_format_argument_list(allow_args)),\n\u001b[1;32m    330\u001b[0m         \u001b[38;5;167;01mFutureWarning\u001b[39;00m,\n\u001b[1;32m    331\u001b[0m         stacklevel\u001b[38;5;241m=\u001b[39mfind_stack_level(),\n\u001b[1;32m    332\u001b[0m     )\n\u001b[0;32m--> 333\u001b[0m \u001b[38;5;28;01mreturn\u001b[39;00m \u001b[43mfunc\u001b[49m\u001b[43m(\u001b[49m\u001b[38;5;241;43m*\u001b[39;49m\u001b[43margs\u001b[49m\u001b[43m,\u001b[49m\u001b[43m \u001b[49m\u001b[38;5;241;43m*\u001b[39;49m\u001b[38;5;241;43m*\u001b[39;49m\u001b[43mkwargs\u001b[49m\u001b[43m)\u001b[49m\n\nFile \u001b[0;32m~/.local/lib/python3.12/site-packages/pandas/core/generic.py:3087\u001b[0m, in \u001b[0;36mNDFrame.to_sql\u001b[0;34m(self, name, con, schema, if_exists, index, index_label, chunksize, dtype, method)\u001b[0m\n\u001b[1;32m   2889\u001b[0m \u001b[38;5;250m\u001b[39m\u001b[38;5;124;03m\"\"\"\u001b[39;00m\n\u001b[1;32m   2890\u001b[0m \u001b[38;5;124;03mWrite records stored in a DataFrame to a SQL database.\u001b[39;00m\n\u001b[1;32m   2891\u001b[0m \n\u001b[0;32m   (...)\u001b[0m\n\u001b[1;32m   3083\u001b[0m \u001b[38;5;124;03m[(1,), (None,), (2,)]\u001b[39;00m\n\u001b[1;32m   3084\u001b[0m \u001b[38;5;124;03m\"\"\"\u001b[39;00m  \u001b[38;5;66;03m# noqa: E501\u001b[39;00m\n\u001b[1;32m   3085\u001b[0m \u001b[38;5;28;01mfrom\u001b[39;00m \u001b[38;5;21;01mpandas\u001b[39;00m\u001b[38;5;21;01m.\u001b[39;00m\u001b[38;5;21;01mio\u001b[39;00m \u001b[38;5;28;01mimport\u001b[39;00m sql\n\u001b[0;32m-> 3087\u001b[0m \u001b[38;5;28;01mreturn\u001b[39;00m \u001b[43msql\u001b[49m\u001b[38;5;241;43m.\u001b[39;49m\u001b[43mto_sql\u001b[49m\u001b[43m(\u001b[49m\n\u001b[1;32m   3088\u001b[0m \u001b[43m    \u001b[49m\u001b[38;5;28;43mself\u001b[39;49m\u001b[43m,\u001b[49m\n\u001b[1;32m   3089\u001b[0m \u001b[43m    \u001b[49m\u001b[43mname\u001b[49m\u001b[43m,\u001b[49m\n\u001b[1;32m   3090\u001b[0m \u001b[43m    \u001b[49m\u001b[43mcon\u001b[49m\u001b[43m,\u001b[49m\n\u001b[1;32m   3091\u001b[0m \u001b[43m    \u001b[49m\u001b[43mschema\u001b[49m\u001b[38;5;241;43m=\u001b[39;49m\u001b[43mschema\u001b[49m\u001b[43m,\u001b[49m\n\u001b[1;32m   3092\u001b[0m \u001b[43m    \u001b[49m\u001b[43mif_exists\u001b[49m\u001b[38;5;241;43m=\u001b[39;49m\u001b[43mif_exists\u001b[49m\u001b[43m,\u001b[49m\n\u001b[1;32m   3093\u001b[0m \u001b[43m    \u001b[49m\u001b[43mindex\u001b[49m\u001b[38;5;241;43m=\u001b[39;49m\u001b[43mindex\u001b[49m\u001b[43m,\u001b[49m\n\u001b[1;32m   3094\u001b[0m \u001b[43m    \u001b[49m\u001b[43mindex_label\u001b[49m\u001b[38;5;241;43m=\u001b[39;49m\u001b[43mindex_label\u001b[49m\u001b[43m,\u001b[49m\n\u001b[1;32m   3095\u001b[0m \u001b[43m    \u001b[49m\u001b[43mchunksize\u001b[49m\u001b[38;5;241;43m=\u001b[39;49m\u001b[43mchunksize\u001b[49m\u001b[43m,\u001b[49m\n\u001b[1;32m   3096\u001b[0m \u001b[43m    \u001b[49m\u001b[43mdtype\u001b[49m\u001b[38;5;241;43m=\u001b[39;49m\u001b[43mdtype\u001b[49m\u001b[43m,\u001b[49m\n\u001b[1;32m   3097\u001b[0m \u001b[43m    \u001b[49m\u001b[43mmethod\u001b[49m\u001b[38;5;241;43m=\u001b[39;49m\u001b[43mmethod\u001b[49m\u001b[43m,\u001b[49m\n\u001b[1;32m   3098\u001b[0m \u001b[43m\u001b[49m\u001b[43m)\u001b[49m\n\nFile \u001b[0;32m~/.local/lib/python3.12/site-packages/pandas/io/sql.py:842\u001b[0m, in \u001b[0;36mto_sql\u001b[0;34m(frame, name, con, schema, if_exists, index, index_label, chunksize, dtype, method, engine, **engine_kwargs)\u001b[0m\n\u001b[1;32m    837\u001b[0m     \u001b[38;5;28;01mraise\u001b[39;00m \u001b[38;5;167;01mNotImplementedError\u001b[39;00m(\n\u001b[1;32m    838\u001b[0m         \u001b[38;5;124m\"\u001b[39m\u001b[38;5;124m'\u001b[39m\u001b[38;5;124mframe\u001b[39m\u001b[38;5;124m'\u001b[39m\u001b[38;5;124m argument should be either a Series or a DataFrame\u001b[39m\u001b[38;5;124m\"\u001b[39m\n\u001b[1;32m    839\u001b[0m     )\n\u001b[1;32m    841\u001b[0m \u001b[38;5;28;01mwith\u001b[39;00m pandasSQL_builder(con, schema\u001b[38;5;241m=\u001b[39mschema, need_transaction\u001b[38;5;241m=\u001b[39m\u001b[38;5;28;01mTrue\u001b[39;00m) \u001b[38;5;28;01mas\u001b[39;00m pandas_sql:\n\u001b[0;32m--> 842\u001b[0m     \u001b[38;5;28;01mreturn\u001b[39;00m \u001b[43mpandas_sql\u001b[49m\u001b[38;5;241;43m.\u001b[39;49m\u001b[43mto_sql\u001b[49m\u001b[43m(\u001b[49m\n\u001b[1;32m    843\u001b[0m \u001b[43m        \u001b[49m\u001b[43mframe\u001b[49m\u001b[43m,\u001b[49m\n\u001b[1;32m    844\u001b[0m \u001b[43m        \u001b[49m\u001b[43mname\u001b[49m\u001b[43m,\u001b[49m\n\u001b[1;32m    845\u001b[0m \u001b[43m        \u001b[49m\u001b[43mif_exists\u001b[49m\u001b[38;5;241;43m=\u001b[39;49m\u001b[43mif_exists\u001b[49m\u001b[43m,\u001b[49m\n\u001b[1;32m    846\u001b[0m \u001b[43m        \u001b[49m\u001b[43mindex\u001b[49m\u001b[38;5;241;43m=\u001b[39;49m\u001b[43mindex\u001b[49m\u001b[43m,\u001b[49m\n\u001b[1;32m    847\u001b[0m \u001b[43m        \u001b[49m\u001b[43mindex_label\u001b[49m\u001b[38;5;241;43m=\u001b[39;49m\u001b[43mindex_label\u001b[49m\u001b[43m,\u001b[49m\n\u001b[1;32m    848\u001b[0m \u001b[43m        \u001b[49m\u001b[43mschema\u001b[49m\u001b[38;5;241;43m=\u001b[39;49m\u001b[43mschema\u001b[49m\u001b[43m,\u001b[49m\n\u001b[1;32m    849\u001b[0m \u001b[43m        \u001b[49m\u001b[43mchunksize\u001b[49m\u001b[38;5;241;43m=\u001b[39;49m\u001b[43mchunksize\u001b[49m\u001b[43m,\u001b[49m\n\u001b[1;32m    850\u001b[0m \u001b[43m        \u001b[49m\u001b[43mdtype\u001b[49m\u001b[38;5;241;43m=\u001b[39;49m\u001b[43mdtype\u001b[49m\u001b[43m,\u001b[49m\n\u001b[1;32m    851\u001b[0m \u001b[43m        \u001b[49m\u001b[43mmethod\u001b[49m\u001b[38;5;241;43m=\u001b[39;49m\u001b[43mmethod\u001b[49m\u001b[43m,\u001b[49m\n\u001b[1;32m    852\u001b[0m \u001b[43m        \u001b[49m\u001b[43mengine\u001b[49m\u001b[38;5;241;43m=\u001b[39;49m\u001b[43mengine\u001b[49m\u001b[43m,\u001b[49m\n\u001b[1;32m    853\u001b[0m \u001b[43m        \u001b[49m\u001b[38;5;241;43m*\u001b[39;49m\u001b[38;5;241;43m*\u001b[39;49m\u001b[43mengine_kwargs\u001b[49m\u001b[43m,\u001b[49m\n\u001b[1;32m    854\u001b[0m \u001b[43m    \u001b[49m\u001b[43m)\u001b[49m\n\nFile \u001b[0;32m~/.local/lib/python3.12/site-packages/pandas/io/sql.py:2850\u001b[0m, in \u001b[0;36mSQLiteDatabase.to_sql\u001b[0;34m(self, frame, name, if_exists, index, index_label, schema, chunksize, dtype, method, engine, **engine_kwargs)\u001b[0m\n\u001b[1;32m   2839\u001b[0m             \u001b[38;5;28;01mraise\u001b[39;00m \u001b[38;5;167;01mValueError\u001b[39;00m(\u001b[38;5;124mf\u001b[39m\u001b[38;5;124m\"\u001b[39m\u001b[38;5;132;01m{\u001b[39;00mcol\u001b[38;5;132;01m}\u001b[39;00m\u001b[38;5;124m (\u001b[39m\u001b[38;5;132;01m{\u001b[39;00mmy_type\u001b[38;5;132;01m}\u001b[39;00m\u001b[38;5;124m) not a string\u001b[39m\u001b[38;5;124m\"\u001b[39m)\n\u001b[1;32m   2841\u001b[0m table \u001b[38;5;241m=\u001b[39m SQLiteTable(\n\u001b[1;32m   2842\u001b[0m     name,\n\u001b[1;32m   2843\u001b[0m     \u001b[38;5;28mself\u001b[39m,\n\u001b[0;32m   (...)\u001b[0m\n\u001b[1;32m   2848\u001b[0m     dtype\u001b[38;5;241m=\u001b[39mdtype,\n\u001b[1;32m   2849\u001b[0m )\n\u001b[0;32m-> 2850\u001b[0m \u001b[43mtable\u001b[49m\u001b[38;5;241;43m.\u001b[39;49m\u001b[43mcreate\u001b[49m\u001b[43m(\u001b[49m\u001b[43m)\u001b[49m\n\u001b[1;32m   2851\u001b[0m \u001b[38;5;28;01mreturn\u001b[39;00m table\u001b[38;5;241m.\u001b[39minsert(chunksize, method)\n\nFile \u001b[0;32m~/.local/lib/python3.12/site-packages/pandas/io/sql.py:986\u001b[0m, in \u001b[0;36mSQLTable.create\u001b[0;34m(self)\u001b[0m\n\u001b[1;32m    984\u001b[0m \u001b[38;5;28;01mif\u001b[39;00m \u001b[38;5;28mself\u001b[39m\u001b[38;5;241m.\u001b[39mexists():\n\u001b[1;32m    985\u001b[0m     \u001b[38;5;28;01mif\u001b[39;00m \u001b[38;5;28mself\u001b[39m\u001b[38;5;241m.\u001b[39mif_exists \u001b[38;5;241m==\u001b[39m \u001b[38;5;124m\"\u001b[39m\u001b[38;5;124mfail\u001b[39m\u001b[38;5;124m\"\u001b[39m:\n\u001b[0;32m--> 986\u001b[0m         \u001b[38;5;28;01mraise\u001b[39;00m \u001b[38;5;167;01mValueError\u001b[39;00m(\u001b[38;5;124mf\u001b[39m\u001b[38;5;124m\"\u001b[39m\u001b[38;5;124mTable \u001b[39m\u001b[38;5;124m'\u001b[39m\u001b[38;5;132;01m{\u001b[39;00m\u001b[38;5;28mself\u001b[39m\u001b[38;5;241m.\u001b[39mname\u001b[38;5;132;01m}\u001b[39;00m\u001b[38;5;124m'\u001b[39m\u001b[38;5;124m already exists.\u001b[39m\u001b[38;5;124m\"\u001b[39m)\n\u001b[1;32m    987\u001b[0m     \u001b[38;5;28;01mif\u001b[39;00m \u001b[38;5;28mself\u001b[39m\u001b[38;5;241m.\u001b[39mif_exists \u001b[38;5;241m==\u001b[39m \u001b[38;5;124m\"\u001b[39m\u001b[38;5;124mreplace\u001b[39m\u001b[38;5;124m\"\u001b[39m:\n\u001b[1;32m    988\u001b[0m         \u001b[38;5;28mself\u001b[39m\u001b[38;5;241m.\u001b[39mpd_sql\u001b[38;5;241m.\u001b[39mdrop_table(\u001b[38;5;28mself\u001b[39m\u001b[38;5;241m.\u001b[39mname, \u001b[38;5;28mself\u001b[39m\u001b[38;5;241m.\u001b[39mschema)\n\n\u001b[0;31mValueError\u001b[0m: Table 'customer' already exists.\n"
        }
      ],
      "execution_count": 4
    },
    {
      "cell_type": "code",
      "metadata": {
        "jukit_cell_id": "DBygB4kVmR"
      },
      "source": [
        "with sqlite3.connect(\"database.db\") as conn:\n",
        "    print(conn.execute(\"SELECT * FROM product\").fetchall())"
      ],
      "outputs": [
        {
          "output_type": "stream",
          "name": "stdout",
          "text": "[('CSD-11100101', 'Lift Up', '250', '30 Can', 'Case', '100 x 120', '144', 8.3, 32.5, '27', 11.8), ('CSD-11100102', 'KINZA COLA', '360', '24 Can', 'Case', '100 x 120', '130', 9.5, 40.2, '27', 12.45), ('CSD-11100103', 'KINZA COLA', '250', '30 Can', 'Case', '100 x 120', '144', 8.3, 32.5, '27', 11.8), ('CSD-11100104', 'KINZA COLA', '185', '30 Can', 'Case', '100 x 120', '192', 6.15, 32.5, '27', 11.8), ('CSD-11100105', 'KINZA Orange', '360', '24 Can', 'Case', '100 x 120', '130', 9.5, 40.2, '27', 11.8), ('CSD-11100106', 'KINZA Orange', '250', '30 Can', 'Case', '100 x 120', '144', 8.3, 32.5, '27', 11.8), ('CSD-11100107', 'KINZA Orange', '185', '30 Can', 'Case', '100 x 120', '192', 6.15, 32.5, '27', 11.8), ('CSD-11100108', 'KINZA CITRUS', '360', '24 Can', 'Case', '100 x 120', '130', 9.5, 40.2, '27', 11.8), ('CSD-11100109', 'KINZA CITRUS', '250', '30 Can', 'Case', '100 x 120', '144', 8.3, 32.5, '27', 11.8), ('CSD-11100110', 'KINZA CITRUS', '185', '30 Can', 'Case', '100 x 120', '192', 6.15, 32.5, '27', 11.8), ('CSD-11100111', 'KINZA Lemon', '360', '24 Can', 'Case', '100 x 120', '130', 9.5, 40.2, '27', 11.8), ('CSD-11100112', 'KINZA Lemon', '250', '30 Can', 'Case', '100 x 120', '144', 8.3, 32.5, '27', 11.8), ('CSD-11100113', 'KINZA Lemon', '185', '30 Can', 'Case', '100 x 120', '192', 6.15, 32.5, '27', 11.8), ('CSD-11100114', 'Lift Up', '185', '30 Can', 'Case', '100 x 120', '192', 6.15, 32.5, '27', 11.8), ('CSD-11100120', 'KINZA Orange', '320', '24 Can', 'Case', '100 x 120', '130', 8.3, 40.2, '27', 11.8), ('CSD-11100121', 'KINZA CITRUS', '320', '24 Can', 'Case', '100 x 120', '130', 8.3, 40.2, '27', 11.8), ('CSD-11100122', 'KINZA Lemon', '320', '24 Can', 'Case', '100 x 120', '130', 8.3, 40.2, '27', 11.8), ('CSD-11100123', 'KINZA COLA', '320', '24 Can', 'Case', '100 x 120', '130', 8.3, 40.2, '27', 11.8), ('CSD-11100140', 'KINZA Soda water ', '250', '30 Can', 'Case', '100 x 120', '144', 8.3, 32.5, '27', 13.7), ('CSD-11100141', 'KINZA Cola Zero', '250', '30 Can', 'Case', '100 x 120', '144', 9.5, 32.5, '27', 13.7), ('CSD-11100142', 'KINZA Lemon Zero\\xa0 ', '250', '30 Can', 'Case', '100 x 120', '144', 8.7, 32.5, '27', 13.7), ('CSD-11100143', 'KINZA Saudi Cocktail \\xa0', '250', '30 Can', 'Case', '100 x 120', '144', 7.9, 32.5, '27', 13.7), ('CSD-11100150', 'KINZA Lemon Zero\\xa0 ', '360', '24 Can', 'Case', '100 x 120', '130', 9.5, 40.2, '27', 11.8), ('CSD-11100151', 'KINZA Cola Diet', '360', '24 Can', 'Case', '100 x 120', '130', 9.5, 40.2, '27', 12.45), ('CSD-11100152', 'KINZA Lemon Zero\\xa0 ', '320', '24 Can', 'Case', '100 x 120', '130', 8.3, 40.2, '27', 11.8), ('CSD-11100153', 'KINZA Cola Diet', '320', '24 Can', 'Case', '100 x 120', '130', 8.3, 40.2, '27', 11.8)]\n"
        }
      ],
      "execution_count": 5
    },
    {
      "cell_type": "markdown",
      "metadata": {
        "jukit_cell_id": "L62IfRTi9D"
      },
      "source": [
        "### Visualize Customer Locations in grid\n",
        "\u00b0\u00b0\u00b0\"\"\"\n",
        "target_customer = (21.501795, 39.24419833)\n",
        "distances = []\n",
        "\n",
        "for lat, lon in zip(customer['Latitude'], customer['Longitude']):\n",
        "    distance = geodesic(target_customer, (lat, lon)).kilometers\n",
        "    distances.append(distance)\n",
        "\n",
        "# Get the index of the nearest neighbor (excluding the customer itself)\n",
        "nearest_index = distances.index(sorted(distances)[1])  # [1] to skip the zero distance to itself\n",
        "nearest_customer_no = customer['customerNo'][nearest_index]\n",
        "\n",
        "print(f'The nearest customer to 102215 is: {nearest_customer_no}')"
      ]
    },
    {
      "cell_type": "markdown",
      "metadata": {
        "jukit_cell_id": "kPtdBso4AJ"
      },
      "source": [
        "Visualize Customer Locations in map"
      ]
    },
    {
      "cell_type": "code",
      "metadata": {
        "jukit_cell_id": "mutcxhmeUa"
      },
      "source": [
        "# Create a map centered around the average latitude and longitude\n",
        "center_lat = sum(customer['Latitude']) / len(customer['Latitude'])\n",
        "center_lon = sum(customer['Longitude']) / len(customer['Longitude'])\n",
        "map_customers = folium.Map(location=[center_lat, center_lon], zoom_start=11, tiles='OpenStreetMap')"
      ],
      "outputs": [],
      "execution_count": null
    },
    {
      "cell_type": "code",
      "metadata": {
        "jukit_cell_id": "51Wg2rOl7c"
      },
      "source": [
        "# Add Esri World Imagery basemap\n",
        "esri_tiles = folium.TileLayer(\n",
        "    tiles='https://server.arcgisonline.com/ArcGIS/rest/services/World_Imagery/MapServer/tile/{z}/{y}/{x}',\n",
        "    attr='Esri',\n",
        "    name='Esri World Imagery',\n",
        "    overlay=True,\n",
        "    control=True\n",
        ")\n",
        "\n",
        "esri_tiles.add_to(map_customers)\n",
        "\n",
        "# Add Google Maps tile layer (optional; this uses a plugin and does not need an API key)\n",
        "folium.TileLayer('https://mt1.google.com/vt/lyrs=r&x={x}&y={y}&z={z}', \n",
        "                 attr='Google', name='Google Maps', overlay=True).add_to(map_customers)\n",
        "\n",
        "# Add layer control\n",
        "# folium.LayerControl().add_to(map_customers)\n",
        "\n",
        "# Add customer markers to the map\n",
        "for lat, lon, cust_no in zip(customer['Latitude'], customer['Longitude'], customer['customerNo']):\n",
        "    folium.Marker(\n",
        "        location=[lat, lon],\n",
        "        popup=f'Customer No: {cust_no}',\n",
        "        icon=folium.Icon(color='blue', icon='info-sign')\n",
        "    ).add_to(map_customers)\n",
        "\n",
        "# Add layer control\n",
        "folium.LayerControl().add_to(map_customers)\n",
        "\n",
        "# Save the map to an HTML file\n",
        "map_customers.save('esri_google_maps_OpenStreetMap_customers.html')"
      ],
      "outputs": [],
      "execution_count": null
    },
    {
      "cell_type": "code",
      "metadata": {
        "jukit_cell_id": "SElS4EJ4rP"
      },
      "source": [
        "# Authenticate with ArcGIS Online (requires an account)\n",
        "gis = GIS(\"home\")\n",
        "\n",
        "# Create a map centered around the average latitude and longitude\n",
        "map_view = gis.map(location=[center_lat, center_lon], zoomlevel=11)\n",
        "\n",
        "# Add customer locations as graphics\n",
        "for lat, lon, cust_no in zip(customer_data['Latitude'], customer_data['Longitude'], customer_data['customerNo']):\n",
        "    point = Point({\"x\": lon, \"y\": lat})\n",
        "    map_view.draw(point, popup={\"title\": f\"Customer No: {cust_no}\"})\n",
        "\n",
        "# Display the map\n",
        "map_view"
      ],
      "outputs": [
        {
          "output_type": "stream",
          "name": "stdout",
          "text": "\u001b[0;31m---------------------------------------------------------------------------\u001b[0m\n\u001b[0;31mNameError\u001b[0m                                 Traceback (most recent call last)\nCell \u001b[0;32mIn[13], line 2\u001b[0m\n\u001b[1;32m      1\u001b[0m \u001b[38;5;66;03m# Authenticate with ArcGIS Online (requires an account)\u001b[39;00m\n\u001b[0;32m----> 2\u001b[0m gis \u001b[38;5;241m=\u001b[39m \u001b[43mGIS\u001b[49m(\u001b[38;5;124m\"\u001b[39m\u001b[38;5;124mhome\u001b[39m\u001b[38;5;124m\"\u001b[39m)\n\u001b[1;32m      4\u001b[0m \u001b[38;5;66;03m# Create a map centered around the average latitude and longitude\u001b[39;00m\n\u001b[1;32m      5\u001b[0m map_view \u001b[38;5;241m=\u001b[39m gis\u001b[38;5;241m.\u001b[39mmap(location\u001b[38;5;241m=\u001b[39m[center_lat, center_lon], zoomlevel\u001b[38;5;241m=\u001b[39m\u001b[38;5;241m11\u001b[39m)\n\n\u001b[0;31mNameError\u001b[0m: name 'GIS' is not defined\n"
        }
      ],
      "execution_count": 6
    },
    {
      "cell_type": "markdown",
      "metadata": {
        "jukit_cell_id": "Ly60dAzsad"
      },
      "source": [
        "## K-means with real map"
      ]
    },
    {
      "cell_type": "code",
      "metadata": {
        "jukit_cell_id": "5PMVvv9hTf"
      },
      "source": [
        "# Extract latitude and longitude\n",
        "coordinates = customer[['Latitude', 'Longitude']]\n",
        "\n",
        "# Perform K-Means clustering\n",
        "num_clusters = 10  # You can adjust the number of clusters\n",
        "kmeans = KMeans(n_clusters=num_clusters, random_state=42)\n",
        "customer['Cluster'] = kmeans.fit_predict(coordinates)\n",
        "\n",
        "# Create a folium map centered around the average location\n",
        "center_lat = customer['Latitude'].mean()\n",
        "center_lon = customer['Longitude'].mean()\n",
        "map_clusters = folium.Map(location=[center_lat, center_lon], zoom_start=11, tiles=None)\n",
        "\n",
        "# Add Esri World Imagery basemap\n",
        "esri_tiles = folium.TileLayer(\n",
        "    tiles='https://server.arcgisonline.com/ArcGIS/rest/services/World_Imagery/MapServer/tile/{z}/{y}/{x}',\n",
        "    attr='Esri',\n",
        "    name='Esri World Imagery',\n",
        "    overlay=True,\n",
        "    control=True\n",
        ")\n",
        "esri_tiles.add_to(map_clusters)\n",
        "\n",
        "# Define colors for clusters\n",
        "colors = ['red', 'blue', 'green', 'purple', 'orange', 'darkred', 'lightred', 'beige', 'darkblue', 'darkgreen', 'cadetblue', 'darkpurple', 'pink', 'lightblue', 'lightgreen']\n",
        "\n",
        "# Add customer markers to the map, color-coded by cluster\n",
        "for _, row in customer.iterrows():\n",
        "    folium.Marker(\n",
        "        location=[row['Latitude'], row['Longitude']],\n",
        "        popup=f'Customer No: {row[\"customerNo\"]}, Cluster: {row[\"Cluster\"]}',\n",
        "        icon=folium.Icon(color=colors[row['Cluster'] % len(colors)], icon='info-sign')\n",
        "    ).add_to(map_clusters)\n",
        "\n",
        "# Add layer control\n",
        "folium.LayerControl().add_to(map_clusters)\n",
        "\n",
        "# Save the map to an HTML file\n",
        "map_clusters.save('customer_clusters_map.html')"
      ],
      "outputs": [],
      "execution_count": null
    },
    {
      "cell_type": "markdown",
      "metadata": {
        "jukit_cell_id": "Ye0EhjOeSw"
      },
      "source": [
        "## Customer functions for data "
      ]
    },
    {
      "cell_type": "code",
      "metadata": {
        "jukit_cell_id": "i6WMGtIZf0"
      },
      "source": [
        "def get_invoices(customer_id):\n",
        "    invoices = order[order[order.columns[0]] == customer_id].groupby(order.columns[1])\n",
        "    return invoices\n",
        "\n",
        "# len(get_invoices(customer_id))\n",
        "# len(invoices)"
      ],
      "outputs": [
        {
          "output_type": "stream",
          "name": "stdout",
          "text": "\n"
        },
        {
          "output_type": "execute_result",
          "execution_count": 7,
          "data": {
            "text/plain": "4"
          },
          "metadata": {}
        }
      ],
      "execution_count": 7
    },
    {
      "cell_type": "code",
      "metadata": {
        "jukit_cell_id": "RNQ75sf65B"
      },
      "source": [
        "customer_id = customer[customer.columns[0]].iloc[0]\n",
        "invoices = get_invoices(customer_id)\n",
        "invoice_items_len = 0 \n",
        "for invoice in invoices:\n",
        "    invoice_items = invoice[1]\n",
        "    print(invoice_items)\n",
        "    for item in invoice_items.values:\n",
        "        qty = item[3]\n",
        "        print(qty)\n",
        "        item_data = product[item[2] == product[product.columns[0]]]\n",
        "        print(item_data.values)\n",
        "        x = item_data[[product.columns[8], product.columns[9]]].values[0]\n",
        "        print(x[0], int(x[1]))"
      ],
      "outputs": [
        {
          "output_type": "stream",
          "name": "stdout",
          "text": "1   Customer #      Invoice #        Item # SalesQty\n717     102215  INV-JD-079768  CSD-11100103      288\n288\n[['CSD-11100103' 'KINZA COLA' '250' '30 Can' 'Case' '100 x 120' '144' 8.3\n  32.5 '27' 11.8]]\n32.5 27\n1   Customer #      Invoice #        Item # SalesQty\n718     102215  INV-JD-081078  CSD-11100103      144\n719     102215  INV-JD-081078  CSD-11100109      288\n144\n[['CSD-11100103' 'KINZA COLA' '250' '30 Can' 'Case' '100 x 120' '144' 8.3\n  32.5 '27' 11.8]]\n32.5 27\n288\n[['CSD-11100109' 'KINZA CITRUS' '250' '30 Can' 'Case' '100 x 120' '144'\n  8.3 32.5 '27' 11.8]]\n32.5 27\n1   Customer #      Invoice #        Item # SalesQty\n720     102215  INV-JD-081079  CSD-11100106      144\n144\n[['CSD-11100106' 'KINZA Orange' '250' '30 Can' 'Case' '100 x 120' '144'\n  8.3 32.5 '27' 11.8]]\n32.5 27\n1   Customer #      Invoice #        Item # SalesQty\n721     102215  INV-JD-081085  CSD-11100112      144\n144\n[['CSD-11100112' 'KINZA Lemon' '250' '30 Can' 'Case' '100 x 120' '144'\n  8.3 32.5 '27' 11.8]]\n32.5 27\n"
        }
      ],
      "execution_count": 8
    },
    {
      "cell_type": "markdown",
      "metadata": {
        "jukit_cell_id": "sQI4H6z57Z"
      },
      "source": [
        "## DBSCAN with real map"
      ]
    },
    {
      "cell_type": "code",
      "metadata": {
        "jukit_cell_id": "YVQJRPqd5K"
      },
      "source": [],
      "outputs": [],
      "execution_count": null
    },
    {
      "cell_type": "code",
      "metadata": {
        "jukit_cell_id": "HdIbjeQ3zQ"
      },
      "source": [
        "def create_row_with_cols_html(key, *args):\n",
        "    html = f\"\"\"<tr><th>{key}</th>\"\"\"\n",
        "    for arg in args:\n",
        "        html += f\"<td>{arg}</td>\"\n",
        "    html += \"</tr>\"\n",
        "    return html\n",
        "\n",
        "\n",
        "def create_row_html(key, value):\n",
        "    return f\"\"\"<tr><th>{key}</th><td>{value}</td></tr>\"\"\"\n",
        "\n",
        "\n",
        "def create_popup_html(row):\n",
        "\n",
        "    invoices = get_invoices(row[\"customerNo\"])\n",
        "    inv_len = len(invoices)\n",
        "    rows = []\n",
        "    for invoice in invoices:\n",
        "        invoice_id = invoice[0]\n",
        "        invoice_items = invoice[1]\n",
        "        rows.append(create_row_html(\"invoice_id\", invoice_id))\n",
        "        for item in invoice_items.values:\n",
        "            item_id = item[2]\n",
        "            qty = item[3]\n",
        "            rows.append(create_row_html(\"item_id\", item_id))\n",
        "            rows.append(create_row_html(\"qty\", qty))\n",
        "            item_data = product[item[2] == product[product.columns[0]]]\n",
        "            item_l_w = item_data[[product.columns[8], product.columns[9]]].values[0]\n",
        "            rows.append(create_row_with_cols_html(\"Length and Width\", *item_l_w))\n",
        "\n",
        "\n",
        "\n",
        "\n",
        "        # invoice_items = invoice[1]\n",
        "\n",
        "        # print(invoice_items)\n",
        "    rows_t = \"\".join(rows)\n",
        "    html_content = f\"\"\"\n",
        "    <div style=\"max-height:200px; overflow-y:auto;\">\n",
        "        <table style=\"width:250px\">\n",
        "            <tr><th>Customer No</th><td>{row['customerNo']}</td></tr>\n",
        "            <tr><th>Latitude</th><td>{row['Latitude']}</td></tr>\n",
        "            <tr><th>Longitude</th><td>{row['Longitude']}</td></tr>\n",
        "            <tr><th>Invoices counts</th><td>{inv_len}</td></tr>\n",
        "            {rows_t}\n",
        "            \n",
        "        </table>\n",
        "    </div>\n",
        "    \"\"\"\n",
        "    return folium.Popup(html_content, max_width=300)\n",
        "\n",
        "\n",
        "# Convert latitude and longitude to radians for haversine distance calculation\n",
        "coords = np.radians(customer[['Latitude', 'Longitude']])\n",
        "\n",
        "# Set the maximum distance (in kilometers) for clustering\n",
        "eps_km = 4  # Adjust this value to set the clustering range in kilometers\n",
        "\n",
        "# Earth radius in kilometers\n",
        "earth_radius_km = 6371.0\n",
        "\n",
        "# Perform DBSCAN clustering\n",
        "db = DBSCAN(eps=eps_km / earth_radius_km, min_samples=2, metric='haversine').fit(coords)\n",
        "customer['Cluster'] = db.labels_\n",
        "\n",
        "# Create a folium map centered around the average location\n",
        "center_lat = customer['Latitude'].mean()\n",
        "center_lon = customer['Longitude'].mean()\n",
        "map_clusters = folium.Map(location=[center_lat, center_lon], zoom_start=11, tiles='OpenStreetMap')\n",
        "\n",
        "# Define colors for clusters\n",
        "colors = ['red', 'blue', 'green', 'purple', 'orange', 'darkred', 'lightred', 'beige', 'darkblue', 'darkgreen', 'cadetblue', 'darkpurple', 'pink', 'lightblue', 'lightgreen']\n",
        "\n",
        "# Add customer markers to the map, color-coded by cluster\n",
        "for _, row in customer.iterrows():\n",
        "    cluster_id = row['Cluster']\n",
        "    color = 'gray' if cluster_id == -1 else colors[cluster_id % len(colors)]  # Use gray for noise points (cluster ID -1)\n",
        "\n",
        "    # inv_cnts = len(get_invoices(row[\"customerNo\"]))\n",
        "    # print(list(inv_cnts)[0])\n",
        "\n",
        "    # popup=f'Customer No: {row[\"customerNo\"]}, <br/> Cluster: {cluster_id}, <br/> inv: {inv_cnts}',\n",
        "    folium.Marker(\n",
        "        location=[row['Latitude'], row['Longitude']],\n",
        "        popup=create_popup_html(row),\n",
        "        icon=folium.Icon(color=color, icon='info-sign')\n",
        "    ).add_to(map_clusters)\n",
        "\n",
        "\n",
        "# Add Esri World Imagery basemap\n",
        "esri_tiles = folium.TileLayer(\n",
        "    tiles='https://server.arcgisonline.com/ArcGIS/rest/services/World_Imagery/MapServer/tile/{z}/{y}/{x}',\n",
        "    attr='Esri',\n",
        "    name='Esri World Imagery',\n",
        "    overlay=True,\n",
        "    control=True\n",
        ")\n",
        "\n",
        "esri_tiles.add_to(map_clusters)\n",
        "\n",
        "# Add Google Maps tile layer (optional; this uses a plugin and does not need an API key)\n",
        "folium.TileLayer('https://mt1.google.com/vt/lyrs=r&x={x}&y={y}&z={z}', \n",
        "                 attr='Google', name='Google Maps', overlay=True).add_to(map_clusters)\n",
        "\n",
        "\n",
        "# Add layer control\n",
        "folium.LayerControl().add_to(map_clusters)\n",
        "\n",
        "# Save the map to an HTML file\n",
        "map_clusters.save('customer_clusters_map_km.html')"
      ],
      "outputs": [],
      "execution_count": null
    },
    {
      "cell_type": "code",
      "metadata": {
        "jukit_cell_id": "5u8e3bjDHw"
      },
      "source": [],
      "outputs": [],
      "execution_count": null
    },
    {
      "cell_type": "markdown",
      "metadata": {
        "jukit_cell_id": "ZZd8mcRs4q"
      },
      "source": [
        "## merge data"
      ]
    },
    {
      "cell_type": "code",
      "metadata": {
        "jukit_cell_id": "0Ge4TF6mfo"
      },
      "source": [
        "customer_orders = customer.merge(order, how=\"inner\",  left_on=customer.columns[0], right_on=order.columns[0])\n",
        "customer_orders.drop(order.columns[0], axis=1, inplace=True)"
      ],
      "outputs": [],
      "execution_count": null
    },
    {
      "cell_type": "code",
      "metadata": {
        "jukit_cell_id": "6InNtycW8y"
      },
      "source": [
        "customer_orders.merge(\n",
        "        product, how=\"inner\",\n",
        "        left_on=customer_orders.columns[4],\n",
        "        right_on=product.columns[0]\n",
        "        )"
      ],
      "outputs": [],
      "execution_count": null
    },
    {
      "cell_type": "code",
      "metadata": {
        "jukit_cell_id": "u5xlp5o3Yo"
      },
      "source": [],
      "outputs": [
        {
          "output_type": "stream",
          "name": "stdout",
          "text": "\n"
        },
        {
          "output_type": "execute_result",
          "execution_count": 9,
          "data": {
            "text/plain": "4"
          },
          "metadata": {}
        }
      ],
      "execution_count": 9
    }
  ],
  "metadata": {
    "anaconda-cloud": {},
    "kernelspec": {
      "display_name": "python",
      "language": "python",
      "name": "python3"
    }
  },
  "nbformat": 4,
  "nbformat_minor": 4
}